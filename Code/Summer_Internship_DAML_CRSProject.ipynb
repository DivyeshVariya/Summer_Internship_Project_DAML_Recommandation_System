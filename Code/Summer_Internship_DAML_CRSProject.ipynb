{
  "nbformat": 4,
  "nbformat_minor": 0,
  "metadata": {
    "colab": {
      "name": "Summer_Internship_DAML_CRSProject.ipynb",
      "provenance": [],
      "collapsed_sections": []
    },
    "kernelspec": {
      "name": "python3",
      "display_name": "Python 3"
    },
    "language_info": {
      "name": "python"
    }
  },
  "cells": [
    {
      "cell_type": "markdown",
      "source": [
        "# Summer Internship Project\n",
        "\n",
        "---\n",
        "\n",
        "# Data Analytics And Machine Learning \n",
        "\n",
        "*  ### Data analytics can be referred to as the necessary level of data science. Data Analytics done by data analyst, it is usually the person who can do basic descriptive statistics, visualize data, and communicate data points for conclusions. They must have a basic understanding of statistics, a perfect sense of databases, the ability to create new views, and the perception to visualize the data. \n",
        "\n",
        "*  ###  Machine learning can be defined as the practice of using algorithms to extract data, learn from it, and then forecast future trends for that topic. Traditional machine learning software is statistical analysis and predictive analysis that is used to spot patterns and catch hidden insights based on perceived data. \n",
        "\n",
        "*  ### A good example of machine learning implementation is Facebook. Facebook’s machine learning algorithms gather behavioral information for every user on the social platform. Based on one’s past behavior, the algorithm predicts interests and recommends articles and notifications on the news feed. Similarly, when Amazon recommends products, or when Netflix recommends movies based on past behaviors, machine learning is at work.\n",
        "\n",
        "---\n",
        "\n",
        "# Project Title : College Recommendation System\n",
        "\n",
        "*   ### While Choosing colleges over different streams and states we sometimes get confused which one to choose . In these project , We are using [college_data](https://www.kaggle.com/datasets/soumyadipghorai/top-indian-colleges) dataset.That contains information about colleges across different states and different types of rating. This project show top 5 colleges based on enterd data for colleges in the states on for studying the particular subject.\n",
        "\n",
        "\n",
        "---\n",
        "\n",
        "\n",
        "\n",
        "*  #  Code\n",
        "\n",
        "\n",
        "\n"
      ],
      "metadata": {
        "id": "x3Uag4blzrsc"
      }
    },
    {
      "cell_type": "markdown",
      "source": [
        "# 1. READING THE DATASET"
      ],
      "metadata": {
        "id": "1XrfiV_SxDTo"
      }
    },
    {
      "cell_type": "code",
      "source": [
        "import pandas as pd\n",
        "import numpy as np\n",
        "import matplotlib\n",
        "import matplotlib.pyplot as plt"
      ],
      "metadata": {
        "id": "Fy4JgIVTg6OW"
      },
      "execution_count": 1,
      "outputs": []
    },
    {
      "cell_type": "code",
      "source": [
        "college_data=pd.read_csv(\"College_data.csv\")\n",
        "college_data.head()"
      ],
      "metadata": {
        "colab": {
          "base_uri": "https://localhost:8080/",
          "height": 337
        },
        "id": "vGreO2pLvShM",
        "outputId": "3cf5dca2-e973-472f-df86-f8635aab2d6f"
      },
      "execution_count": 2,
      "outputs": [
        {
          "output_type": "execute_result",
          "data": {
            "text/plain": [
              "                               College_Name       State       Stream  \\\n",
              "0    Indian Institute of Technology Madras   Tamil nadu  Engineering   \n",
              "1  College of Engineering, Anna University   Tamil nadu  Engineering   \n",
              "2              NIT Trichy, Tiruchirappalli   Tamil nadu  Engineering   \n",
              "3          Vellore Institute of Technology   Tamil nadu  Engineering   \n",
              "4     SRM Engineering College, Kanchipuram   Tamil nadu  Engineering   \n",
              "\n",
              "     UG_fee    PG_fee Rating Academic Accommodation Faculty Infrastructure  \\\n",
              "0    75,116    23,070    8.7        9           7.9     8.7            8.8   \n",
              "1    50,000    50,000    8.4      8.7           7.7     8.1            8.7   \n",
              "2  1,49,250    99,250    8.5      8.6           7.8     8.2            8.7   \n",
              "3  1,98,000  1,83,000    8.3      8.3             8     7.8            8.9   \n",
              "4  2,60,000  1,70,000    7.2      6.5           6.6     6.9            7.6   \n",
              "\n",
              "  Placement Social_Life  \n",
              "0       8.8           9  \n",
              "1       8.3         8.7  \n",
              "2       8.8         8.7  \n",
              "3       8.5         8.5  \n",
              "4       7.1         8.3  "
            ],
            "text/html": [
              "\n",
              "  <div id=\"df-13a4c8a7-3bb6-4e67-ba26-e52e371971c6\">\n",
              "    <div class=\"colab-df-container\">\n",
              "      <div>\n",
              "<style scoped>\n",
              "    .dataframe tbody tr th:only-of-type {\n",
              "        vertical-align: middle;\n",
              "    }\n",
              "\n",
              "    .dataframe tbody tr th {\n",
              "        vertical-align: top;\n",
              "    }\n",
              "\n",
              "    .dataframe thead th {\n",
              "        text-align: right;\n",
              "    }\n",
              "</style>\n",
              "<table border=\"1\" class=\"dataframe\">\n",
              "  <thead>\n",
              "    <tr style=\"text-align: right;\">\n",
              "      <th></th>\n",
              "      <th>College_Name</th>\n",
              "      <th>State</th>\n",
              "      <th>Stream</th>\n",
              "      <th>UG_fee</th>\n",
              "      <th>PG_fee</th>\n",
              "      <th>Rating</th>\n",
              "      <th>Academic</th>\n",
              "      <th>Accommodation</th>\n",
              "      <th>Faculty</th>\n",
              "      <th>Infrastructure</th>\n",
              "      <th>Placement</th>\n",
              "      <th>Social_Life</th>\n",
              "    </tr>\n",
              "  </thead>\n",
              "  <tbody>\n",
              "    <tr>\n",
              "      <th>0</th>\n",
              "      <td>Indian Institute of Technology Madras</td>\n",
              "      <td>Tamil nadu</td>\n",
              "      <td>Engineering</td>\n",
              "      <td>75,116</td>\n",
              "      <td>23,070</td>\n",
              "      <td>8.7</td>\n",
              "      <td>9</td>\n",
              "      <td>7.9</td>\n",
              "      <td>8.7</td>\n",
              "      <td>8.8</td>\n",
              "      <td>8.8</td>\n",
              "      <td>9</td>\n",
              "    </tr>\n",
              "    <tr>\n",
              "      <th>1</th>\n",
              "      <td>College of Engineering, Anna University</td>\n",
              "      <td>Tamil nadu</td>\n",
              "      <td>Engineering</td>\n",
              "      <td>50,000</td>\n",
              "      <td>50,000</td>\n",
              "      <td>8.4</td>\n",
              "      <td>8.7</td>\n",
              "      <td>7.7</td>\n",
              "      <td>8.1</td>\n",
              "      <td>8.7</td>\n",
              "      <td>8.3</td>\n",
              "      <td>8.7</td>\n",
              "    </tr>\n",
              "    <tr>\n",
              "      <th>2</th>\n",
              "      <td>NIT Trichy, Tiruchirappalli</td>\n",
              "      <td>Tamil nadu</td>\n",
              "      <td>Engineering</td>\n",
              "      <td>1,49,250</td>\n",
              "      <td>99,250</td>\n",
              "      <td>8.5</td>\n",
              "      <td>8.6</td>\n",
              "      <td>7.8</td>\n",
              "      <td>8.2</td>\n",
              "      <td>8.7</td>\n",
              "      <td>8.8</td>\n",
              "      <td>8.7</td>\n",
              "    </tr>\n",
              "    <tr>\n",
              "      <th>3</th>\n",
              "      <td>Vellore Institute of Technology</td>\n",
              "      <td>Tamil nadu</td>\n",
              "      <td>Engineering</td>\n",
              "      <td>1,98,000</td>\n",
              "      <td>1,83,000</td>\n",
              "      <td>8.3</td>\n",
              "      <td>8.3</td>\n",
              "      <td>8</td>\n",
              "      <td>7.8</td>\n",
              "      <td>8.9</td>\n",
              "      <td>8.5</td>\n",
              "      <td>8.5</td>\n",
              "    </tr>\n",
              "    <tr>\n",
              "      <th>4</th>\n",
              "      <td>SRM Engineering College, Kanchipuram</td>\n",
              "      <td>Tamil nadu</td>\n",
              "      <td>Engineering</td>\n",
              "      <td>2,60,000</td>\n",
              "      <td>1,70,000</td>\n",
              "      <td>7.2</td>\n",
              "      <td>6.5</td>\n",
              "      <td>6.6</td>\n",
              "      <td>6.9</td>\n",
              "      <td>7.6</td>\n",
              "      <td>7.1</td>\n",
              "      <td>8.3</td>\n",
              "    </tr>\n",
              "  </tbody>\n",
              "</table>\n",
              "</div>\n",
              "      <button class=\"colab-df-convert\" onclick=\"convertToInteractive('df-13a4c8a7-3bb6-4e67-ba26-e52e371971c6')\"\n",
              "              title=\"Convert this dataframe to an interactive table.\"\n",
              "              style=\"display:none;\">\n",
              "        \n",
              "  <svg xmlns=\"http://www.w3.org/2000/svg\" height=\"24px\"viewBox=\"0 0 24 24\"\n",
              "       width=\"24px\">\n",
              "    <path d=\"M0 0h24v24H0V0z\" fill=\"none\"/>\n",
              "    <path d=\"M18.56 5.44l.94 2.06.94-2.06 2.06-.94-2.06-.94-.94-2.06-.94 2.06-2.06.94zm-11 1L8.5 8.5l.94-2.06 2.06-.94-2.06-.94L8.5 2.5l-.94 2.06-2.06.94zm10 10l.94 2.06.94-2.06 2.06-.94-2.06-.94-.94-2.06-.94 2.06-2.06.94z\"/><path d=\"M17.41 7.96l-1.37-1.37c-.4-.4-.92-.59-1.43-.59-.52 0-1.04.2-1.43.59L10.3 9.45l-7.72 7.72c-.78.78-.78 2.05 0 2.83L4 21.41c.39.39.9.59 1.41.59.51 0 1.02-.2 1.41-.59l7.78-7.78 2.81-2.81c.8-.78.8-2.07 0-2.86zM5.41 20L4 18.59l7.72-7.72 1.47 1.35L5.41 20z\"/>\n",
              "  </svg>\n",
              "      </button>\n",
              "      \n",
              "  <style>\n",
              "    .colab-df-container {\n",
              "      display:flex;\n",
              "      flex-wrap:wrap;\n",
              "      gap: 12px;\n",
              "    }\n",
              "\n",
              "    .colab-df-convert {\n",
              "      background-color: #E8F0FE;\n",
              "      border: none;\n",
              "      border-radius: 50%;\n",
              "      cursor: pointer;\n",
              "      display: none;\n",
              "      fill: #1967D2;\n",
              "      height: 32px;\n",
              "      padding: 0 0 0 0;\n",
              "      width: 32px;\n",
              "    }\n",
              "\n",
              "    .colab-df-convert:hover {\n",
              "      background-color: #E2EBFA;\n",
              "      box-shadow: 0px 1px 2px rgba(60, 64, 67, 0.3), 0px 1px 3px 1px rgba(60, 64, 67, 0.15);\n",
              "      fill: #174EA6;\n",
              "    }\n",
              "\n",
              "    [theme=dark] .colab-df-convert {\n",
              "      background-color: #3B4455;\n",
              "      fill: #D2E3FC;\n",
              "    }\n",
              "\n",
              "    [theme=dark] .colab-df-convert:hover {\n",
              "      background-color: #434B5C;\n",
              "      box-shadow: 0px 1px 3px 1px rgba(0, 0, 0, 0.15);\n",
              "      filter: drop-shadow(0px 1px 2px rgba(0, 0, 0, 0.3));\n",
              "      fill: #FFFFFF;\n",
              "    }\n",
              "  </style>\n",
              "\n",
              "      <script>\n",
              "        const buttonEl =\n",
              "          document.querySelector('#df-13a4c8a7-3bb6-4e67-ba26-e52e371971c6 button.colab-df-convert');\n",
              "        buttonEl.style.display =\n",
              "          google.colab.kernel.accessAllowed ? 'block' : 'none';\n",
              "\n",
              "        async function convertToInteractive(key) {\n",
              "          const element = document.querySelector('#df-13a4c8a7-3bb6-4e67-ba26-e52e371971c6');\n",
              "          const dataTable =\n",
              "            await google.colab.kernel.invokeFunction('convertToInteractive',\n",
              "                                                     [key], {});\n",
              "          if (!dataTable) return;\n",
              "\n",
              "          const docLinkHtml = 'Like what you see? Visit the ' +\n",
              "            '<a target=\"_blank\" href=https://colab.research.google.com/notebooks/data_table.ipynb>data table notebook</a>'\n",
              "            + ' to learn more about interactive tables.';\n",
              "          element.innerHTML = '';\n",
              "          dataTable['output_type'] = 'display_data';\n",
              "          await google.colab.output.renderOutput(dataTable, element);\n",
              "          const docLink = document.createElement('div');\n",
              "          docLink.innerHTML = docLinkHtml;\n",
              "          element.appendChild(docLink);\n",
              "        }\n",
              "      </script>\n",
              "    </div>\n",
              "  </div>\n",
              "  "
            ]
          },
          "metadata": {},
          "execution_count": 2
        }
      ]
    },
    {
      "cell_type": "code",
      "source": [
        "print(college_data.columns)"
      ],
      "metadata": {
        "colab": {
          "base_uri": "https://localhost:8080/"
        },
        "id": "gXJYlH78wGMx",
        "outputId": "ddbce395-136d-4bed-af5e-4ad8eb75c53e"
      },
      "execution_count": 3,
      "outputs": [
        {
          "output_type": "stream",
          "name": "stdout",
          "text": [
            "Index(['College_Name', 'State', 'Stream', 'UG_fee', 'PG_fee', 'Rating',\n",
            "       'Academic', 'Accommodation', 'Faculty', 'Infrastructure', 'Placement',\n",
            "       'Social_Life'],\n",
            "      dtype='object')\n"
          ]
        }
      ]
    },
    {
      "cell_type": "code",
      "source": [
        "college_data.shape"
      ],
      "metadata": {
        "colab": {
          "base_uri": "https://localhost:8080/"
        },
        "id": "XACHRYqIwrJo",
        "outputId": "b281c0b0-d18c-4f31-e857-5e0c63a7497e"
      },
      "execution_count": 4,
      "outputs": [
        {
          "output_type": "execute_result",
          "data": {
            "text/plain": [
              "(6788, 12)"
            ]
          },
          "metadata": {},
          "execution_count": 4
        }
      ]
    },
    {
      "cell_type": "code",
      "source": [
        "college_data.describe()"
      ],
      "metadata": {
        "colab": {
          "base_uri": "https://localhost:8080/",
          "height": 236
        },
        "id": "Gqa-Omu2wu_V",
        "outputId": "dcd7391f-0efc-45d1-ed7a-a04884a700af"
      },
      "execution_count": 5,
      "outputs": [
        {
          "output_type": "execute_result",
          "data": {
            "text/plain": [
              "                             College_Name        State Stream UG_fee PG_fee  \\\n",
              "count                                6788         6788   6788   6788   6788   \n",
              "unique                               3120           35     10   2367   1572   \n",
              "top     National Institute of Technology   Maharashtra   Arts     --     --   \n",
              "freq                                   64          298    837   1170   3311   \n",
              "\n",
              "       Rating Academic Accommodation Faculty Infrastructure Placement  \\\n",
              "count    6788     6788          6788    6788           6788      6788   \n",
              "unique     66       54            72      54             64        74   \n",
              "top        --       --            --      --             --        --   \n",
              "freq      732      846           889     907            916       890   \n",
              "\n",
              "       Social_Life  \n",
              "count         6788  \n",
              "unique          65  \n",
              "top             --  \n",
              "freq           954  "
            ],
            "text/html": [
              "\n",
              "  <div id=\"df-f5163f8b-7d78-459c-8ca2-4ba0811ad177\">\n",
              "    <div class=\"colab-df-container\">\n",
              "      <div>\n",
              "<style scoped>\n",
              "    .dataframe tbody tr th:only-of-type {\n",
              "        vertical-align: middle;\n",
              "    }\n",
              "\n",
              "    .dataframe tbody tr th {\n",
              "        vertical-align: top;\n",
              "    }\n",
              "\n",
              "    .dataframe thead th {\n",
              "        text-align: right;\n",
              "    }\n",
              "</style>\n",
              "<table border=\"1\" class=\"dataframe\">\n",
              "  <thead>\n",
              "    <tr style=\"text-align: right;\">\n",
              "      <th></th>\n",
              "      <th>College_Name</th>\n",
              "      <th>State</th>\n",
              "      <th>Stream</th>\n",
              "      <th>UG_fee</th>\n",
              "      <th>PG_fee</th>\n",
              "      <th>Rating</th>\n",
              "      <th>Academic</th>\n",
              "      <th>Accommodation</th>\n",
              "      <th>Faculty</th>\n",
              "      <th>Infrastructure</th>\n",
              "      <th>Placement</th>\n",
              "      <th>Social_Life</th>\n",
              "    </tr>\n",
              "  </thead>\n",
              "  <tbody>\n",
              "    <tr>\n",
              "      <th>count</th>\n",
              "      <td>6788</td>\n",
              "      <td>6788</td>\n",
              "      <td>6788</td>\n",
              "      <td>6788</td>\n",
              "      <td>6788</td>\n",
              "      <td>6788</td>\n",
              "      <td>6788</td>\n",
              "      <td>6788</td>\n",
              "      <td>6788</td>\n",
              "      <td>6788</td>\n",
              "      <td>6788</td>\n",
              "      <td>6788</td>\n",
              "    </tr>\n",
              "    <tr>\n",
              "      <th>unique</th>\n",
              "      <td>3120</td>\n",
              "      <td>35</td>\n",
              "      <td>10</td>\n",
              "      <td>2367</td>\n",
              "      <td>1572</td>\n",
              "      <td>66</td>\n",
              "      <td>54</td>\n",
              "      <td>72</td>\n",
              "      <td>54</td>\n",
              "      <td>64</td>\n",
              "      <td>74</td>\n",
              "      <td>65</td>\n",
              "    </tr>\n",
              "    <tr>\n",
              "      <th>top</th>\n",
              "      <td>National Institute of Technology</td>\n",
              "      <td>Maharashtra</td>\n",
              "      <td>Arts</td>\n",
              "      <td>--</td>\n",
              "      <td>--</td>\n",
              "      <td>--</td>\n",
              "      <td>--</td>\n",
              "      <td>--</td>\n",
              "      <td>--</td>\n",
              "      <td>--</td>\n",
              "      <td>--</td>\n",
              "      <td>--</td>\n",
              "    </tr>\n",
              "    <tr>\n",
              "      <th>freq</th>\n",
              "      <td>64</td>\n",
              "      <td>298</td>\n",
              "      <td>837</td>\n",
              "      <td>1170</td>\n",
              "      <td>3311</td>\n",
              "      <td>732</td>\n",
              "      <td>846</td>\n",
              "      <td>889</td>\n",
              "      <td>907</td>\n",
              "      <td>916</td>\n",
              "      <td>890</td>\n",
              "      <td>954</td>\n",
              "    </tr>\n",
              "  </tbody>\n",
              "</table>\n",
              "</div>\n",
              "      <button class=\"colab-df-convert\" onclick=\"convertToInteractive('df-f5163f8b-7d78-459c-8ca2-4ba0811ad177')\"\n",
              "              title=\"Convert this dataframe to an interactive table.\"\n",
              "              style=\"display:none;\">\n",
              "        \n",
              "  <svg xmlns=\"http://www.w3.org/2000/svg\" height=\"24px\"viewBox=\"0 0 24 24\"\n",
              "       width=\"24px\">\n",
              "    <path d=\"M0 0h24v24H0V0z\" fill=\"none\"/>\n",
              "    <path d=\"M18.56 5.44l.94 2.06.94-2.06 2.06-.94-2.06-.94-.94-2.06-.94 2.06-2.06.94zm-11 1L8.5 8.5l.94-2.06 2.06-.94-2.06-.94L8.5 2.5l-.94 2.06-2.06.94zm10 10l.94 2.06.94-2.06 2.06-.94-2.06-.94-.94-2.06-.94 2.06-2.06.94z\"/><path d=\"M17.41 7.96l-1.37-1.37c-.4-.4-.92-.59-1.43-.59-.52 0-1.04.2-1.43.59L10.3 9.45l-7.72 7.72c-.78.78-.78 2.05 0 2.83L4 21.41c.39.39.9.59 1.41.59.51 0 1.02-.2 1.41-.59l7.78-7.78 2.81-2.81c.8-.78.8-2.07 0-2.86zM5.41 20L4 18.59l7.72-7.72 1.47 1.35L5.41 20z\"/>\n",
              "  </svg>\n",
              "      </button>\n",
              "      \n",
              "  <style>\n",
              "    .colab-df-container {\n",
              "      display:flex;\n",
              "      flex-wrap:wrap;\n",
              "      gap: 12px;\n",
              "    }\n",
              "\n",
              "    .colab-df-convert {\n",
              "      background-color: #E8F0FE;\n",
              "      border: none;\n",
              "      border-radius: 50%;\n",
              "      cursor: pointer;\n",
              "      display: none;\n",
              "      fill: #1967D2;\n",
              "      height: 32px;\n",
              "      padding: 0 0 0 0;\n",
              "      width: 32px;\n",
              "    }\n",
              "\n",
              "    .colab-df-convert:hover {\n",
              "      background-color: #E2EBFA;\n",
              "      box-shadow: 0px 1px 2px rgba(60, 64, 67, 0.3), 0px 1px 3px 1px rgba(60, 64, 67, 0.15);\n",
              "      fill: #174EA6;\n",
              "    }\n",
              "\n",
              "    [theme=dark] .colab-df-convert {\n",
              "      background-color: #3B4455;\n",
              "      fill: #D2E3FC;\n",
              "    }\n",
              "\n",
              "    [theme=dark] .colab-df-convert:hover {\n",
              "      background-color: #434B5C;\n",
              "      box-shadow: 0px 1px 3px 1px rgba(0, 0, 0, 0.15);\n",
              "      filter: drop-shadow(0px 1px 2px rgba(0, 0, 0, 0.3));\n",
              "      fill: #FFFFFF;\n",
              "    }\n",
              "  </style>\n",
              "\n",
              "      <script>\n",
              "        const buttonEl =\n",
              "          document.querySelector('#df-f5163f8b-7d78-459c-8ca2-4ba0811ad177 button.colab-df-convert');\n",
              "        buttonEl.style.display =\n",
              "          google.colab.kernel.accessAllowed ? 'block' : 'none';\n",
              "\n",
              "        async function convertToInteractive(key) {\n",
              "          const element = document.querySelector('#df-f5163f8b-7d78-459c-8ca2-4ba0811ad177');\n",
              "          const dataTable =\n",
              "            await google.colab.kernel.invokeFunction('convertToInteractive',\n",
              "                                                     [key], {});\n",
              "          if (!dataTable) return;\n",
              "\n",
              "          const docLinkHtml = 'Like what you see? Visit the ' +\n",
              "            '<a target=\"_blank\" href=https://colab.research.google.com/notebooks/data_table.ipynb>data table notebook</a>'\n",
              "            + ' to learn more about interactive tables.';\n",
              "          element.innerHTML = '';\n",
              "          dataTable['output_type'] = 'display_data';\n",
              "          await google.colab.output.renderOutput(dataTable, element);\n",
              "          const docLink = document.createElement('div');\n",
              "          docLink.innerHTML = docLinkHtml;\n",
              "          element.appendChild(docLink);\n",
              "        }\n",
              "      </script>\n",
              "    </div>\n",
              "  </div>\n",
              "  "
            ]
          },
          "metadata": {},
          "execution_count": 5
        }
      ]
    },
    {
      "cell_type": "markdown",
      "source": [
        "# 2. DATA CLEANING AND FORMATTING\n",
        "\n",
        "### In this section we are working with missing , incorrent and invaild data values.\n",
        "\n",
        "### Missing, incorrect, and invalid data need to be addressed to avert possible misleading mathematical operations. There are pandas functions, for example mean(), that exclude NaN values by default; however, other numerical operations consider all values, including missing values, to perform those operations. This will lead to wrong results. Incorrect and invalid data will also result in wrong outcomes. For these reasons, it is vital to tackle these different types of data according to their case.\n",
        "\n",
        "*  ### Check Missing Values :"
      ],
      "metadata": {
        "id": "w3qUJfA4w-hm"
      }
    },
    {
      "cell_type": "code",
      "source": [
        "college_data.isnull().sum().sort_values(ascending=False)"
      ],
      "metadata": {
        "colab": {
          "base_uri": "https://localhost:8080/"
        },
        "id": "qbm0-JgBw8Kf",
        "outputId": "1cf0f06b-ed26-436f-e30e-241fde0a4840"
      },
      "execution_count": 6,
      "outputs": [
        {
          "output_type": "execute_result",
          "data": {
            "text/plain": [
              "College_Name      0\n",
              "State             0\n",
              "Stream            0\n",
              "UG_fee            0\n",
              "PG_fee            0\n",
              "Rating            0\n",
              "Academic          0\n",
              "Accommodation     0\n",
              "Faculty           0\n",
              "Infrastructure    0\n",
              "Placement         0\n",
              "Social_Life       0\n",
              "dtype: int64"
            ]
          },
          "metadata": {},
          "execution_count": 6
        }
      ]
    },
    {
      "cell_type": "markdown",
      "source": [
        "### As we can see that above table that show the null values count per columns . Here, Our College dataset not have any column Null values.\n",
        "\n",
        "*   ### Check Duplicated values"
      ],
      "metadata": {
        "id": "kom4iBAtyyLB"
      }
    },
    {
      "cell_type": "code",
      "source": [
        "college_data.duplicated().sum()"
      ],
      "metadata": {
        "colab": {
          "base_uri": "https://localhost:8080/"
        },
        "id": "XSQqCYsA-e-B",
        "outputId": "6b16ae64-fbac-49a9-801a-dc3b15d25941"
      },
      "execution_count": 7,
      "outputs": [
        {
          "output_type": "execute_result",
          "data": {
            "text/plain": [
              "0"
            ]
          },
          "metadata": {},
          "execution_count": 7
        }
      ]
    },
    {
      "cell_type": "markdown",
      "source": [
        "### Using duplicated method we can check that any duplicated values are there or not. Here, not have any duplicated values.\n",
        "\n",
        "*  ### Check Invaild Values"
      ],
      "metadata": {
        "id": "XARMDmh9cL6W"
      }
    },
    {
      "cell_type": "code",
      "source": [
        "col=college_data.dtypes\n",
        "print(col)"
      ],
      "metadata": {
        "colab": {
          "base_uri": "https://localhost:8080/"
        },
        "id": "HFNGN29BcKq8",
        "outputId": "8d11041e-677e-4704-92cf-ed96d7a228c6"
      },
      "execution_count": 8,
      "outputs": [
        {
          "output_type": "stream",
          "name": "stdout",
          "text": [
            "College_Name      object\n",
            "State             object\n",
            "Stream            object\n",
            "UG_fee            object\n",
            "PG_fee            object\n",
            "Rating            object\n",
            "Academic          object\n",
            "Accommodation     object\n",
            "Faculty           object\n",
            "Infrastructure    object\n",
            "Placement         object\n",
            "Social_Life       object\n",
            "dtype: object\n"
          ]
        }
      ]
    },
    {
      "cell_type": "code",
      "source": [
        "college_data.tail(10)"
      ],
      "metadata": {
        "colab": {
          "base_uri": "https://localhost:8080/",
          "height": 771
        },
        "id": "CrlTEgmqcto_",
        "outputId": "f1e44464-2153-491e-9492-846eeb165533"
      },
      "execution_count": 9,
      "outputs": [
        {
          "output_type": "execute_result",
          "data": {
            "text/plain": [
              "                                           College_Name    State  \\\n",
              "6778           Jawaharlal Nehru Rajkeeya Mahavidyalaya   Andaman   \n",
              "6779     Mahatma Gandhi Government College, Mayabander   Andaman   \n",
              "6780  Tagore Government College of Education, Port B...  Andaman   \n",
              "6781  Dr. B R Ambedkar Institute of Technology, Port...  Andaman   \n",
              "6782           Jawaharlal Nehru Rajkeeya Mahavidyalaya   Andaman   \n",
              "6783  Andaman & Nicobar Islands Institute of Medical...  Andaman   \n",
              "6784  Plastindia International University, Dadra & N...    Dadra   \n",
              "6785          SSR Institute of Management and Research     Dadra   \n",
              "6786  Institute of Hotel Management and Catering Tec...    Dadra   \n",
              "6787                     Government Polytechnic, Daman     Daman   \n",
              "\n",
              "                Stream    UG_fee  PG_fee Rating Academic Accommodation  \\\n",
              "6778              Arts       843   1,008    6.6      8.5             5   \n",
              "6779              Arts     1,155      --     --       --            --   \n",
              "6780              Arts        --      --      9        9            --   \n",
              "6781  Hotel-management     4,780  11,980     --       --            --   \n",
              "6782       Agriculture       939      --    6.6      8.5             5   \n",
              "6783           Medical    91,050      --    8.3      8.6           8.4   \n",
              "6784       Engineering        --      --     --       --            --   \n",
              "6785        Management  1,30,000      --      8       --            --   \n",
              "6786  Hotel-management    77,000      --    7.7        7             7   \n",
              "6787       Engineering     3,575   8,280     --       --            --   \n",
              "\n",
              "     Faculty Infrastructure Placement Social_Life  \n",
              "6778       7            7.5       2.5           9  \n",
              "6779      --             --        --          --  \n",
              "6780      --              9         9          --  \n",
              "6781      --             --        --          --  \n",
              "6782       7            7.5       2.5           9  \n",
              "6783     8.4            8.3       8.2         8.1  \n",
              "6784      --             --        --          --  \n",
              "6785       8             --         6          --  \n",
              "6786     8.2            8.5         8         7.4  \n",
              "6787      --             --        --          --  "
            ],
            "text/html": [
              "\n",
              "  <div id=\"df-6fe1e57d-0ebd-47c3-96c1-b182b5834939\">\n",
              "    <div class=\"colab-df-container\">\n",
              "      <div>\n",
              "<style scoped>\n",
              "    .dataframe tbody tr th:only-of-type {\n",
              "        vertical-align: middle;\n",
              "    }\n",
              "\n",
              "    .dataframe tbody tr th {\n",
              "        vertical-align: top;\n",
              "    }\n",
              "\n",
              "    .dataframe thead th {\n",
              "        text-align: right;\n",
              "    }\n",
              "</style>\n",
              "<table border=\"1\" class=\"dataframe\">\n",
              "  <thead>\n",
              "    <tr style=\"text-align: right;\">\n",
              "      <th></th>\n",
              "      <th>College_Name</th>\n",
              "      <th>State</th>\n",
              "      <th>Stream</th>\n",
              "      <th>UG_fee</th>\n",
              "      <th>PG_fee</th>\n",
              "      <th>Rating</th>\n",
              "      <th>Academic</th>\n",
              "      <th>Accommodation</th>\n",
              "      <th>Faculty</th>\n",
              "      <th>Infrastructure</th>\n",
              "      <th>Placement</th>\n",
              "      <th>Social_Life</th>\n",
              "    </tr>\n",
              "  </thead>\n",
              "  <tbody>\n",
              "    <tr>\n",
              "      <th>6778</th>\n",
              "      <td>Jawaharlal Nehru Rajkeeya Mahavidyalaya</td>\n",
              "      <td>Andaman</td>\n",
              "      <td>Arts</td>\n",
              "      <td>843</td>\n",
              "      <td>1,008</td>\n",
              "      <td>6.6</td>\n",
              "      <td>8.5</td>\n",
              "      <td>5</td>\n",
              "      <td>7</td>\n",
              "      <td>7.5</td>\n",
              "      <td>2.5</td>\n",
              "      <td>9</td>\n",
              "    </tr>\n",
              "    <tr>\n",
              "      <th>6779</th>\n",
              "      <td>Mahatma Gandhi Government College, Mayabander</td>\n",
              "      <td>Andaman</td>\n",
              "      <td>Arts</td>\n",
              "      <td>1,155</td>\n",
              "      <td>--</td>\n",
              "      <td>--</td>\n",
              "      <td>--</td>\n",
              "      <td>--</td>\n",
              "      <td>--</td>\n",
              "      <td>--</td>\n",
              "      <td>--</td>\n",
              "      <td>--</td>\n",
              "    </tr>\n",
              "    <tr>\n",
              "      <th>6780</th>\n",
              "      <td>Tagore Government College of Education, Port B...</td>\n",
              "      <td>Andaman</td>\n",
              "      <td>Arts</td>\n",
              "      <td>--</td>\n",
              "      <td>--</td>\n",
              "      <td>9</td>\n",
              "      <td>9</td>\n",
              "      <td>--</td>\n",
              "      <td>--</td>\n",
              "      <td>9</td>\n",
              "      <td>9</td>\n",
              "      <td>--</td>\n",
              "    </tr>\n",
              "    <tr>\n",
              "      <th>6781</th>\n",
              "      <td>Dr. B R Ambedkar Institute of Technology, Port...</td>\n",
              "      <td>Andaman</td>\n",
              "      <td>Hotel-management</td>\n",
              "      <td>4,780</td>\n",
              "      <td>11,980</td>\n",
              "      <td>--</td>\n",
              "      <td>--</td>\n",
              "      <td>--</td>\n",
              "      <td>--</td>\n",
              "      <td>--</td>\n",
              "      <td>--</td>\n",
              "      <td>--</td>\n",
              "    </tr>\n",
              "    <tr>\n",
              "      <th>6782</th>\n",
              "      <td>Jawaharlal Nehru Rajkeeya Mahavidyalaya</td>\n",
              "      <td>Andaman</td>\n",
              "      <td>Agriculture</td>\n",
              "      <td>939</td>\n",
              "      <td>--</td>\n",
              "      <td>6.6</td>\n",
              "      <td>8.5</td>\n",
              "      <td>5</td>\n",
              "      <td>7</td>\n",
              "      <td>7.5</td>\n",
              "      <td>2.5</td>\n",
              "      <td>9</td>\n",
              "    </tr>\n",
              "    <tr>\n",
              "      <th>6783</th>\n",
              "      <td>Andaman &amp; Nicobar Islands Institute of Medical...</td>\n",
              "      <td>Andaman</td>\n",
              "      <td>Medical</td>\n",
              "      <td>91,050</td>\n",
              "      <td>--</td>\n",
              "      <td>8.3</td>\n",
              "      <td>8.6</td>\n",
              "      <td>8.4</td>\n",
              "      <td>8.4</td>\n",
              "      <td>8.3</td>\n",
              "      <td>8.2</td>\n",
              "      <td>8.1</td>\n",
              "    </tr>\n",
              "    <tr>\n",
              "      <th>6784</th>\n",
              "      <td>Plastindia International University, Dadra &amp; N...</td>\n",
              "      <td>Dadra</td>\n",
              "      <td>Engineering</td>\n",
              "      <td>--</td>\n",
              "      <td>--</td>\n",
              "      <td>--</td>\n",
              "      <td>--</td>\n",
              "      <td>--</td>\n",
              "      <td>--</td>\n",
              "      <td>--</td>\n",
              "      <td>--</td>\n",
              "      <td>--</td>\n",
              "    </tr>\n",
              "    <tr>\n",
              "      <th>6785</th>\n",
              "      <td>SSR Institute of Management and Research</td>\n",
              "      <td>Dadra</td>\n",
              "      <td>Management</td>\n",
              "      <td>1,30,000</td>\n",
              "      <td>--</td>\n",
              "      <td>8</td>\n",
              "      <td>--</td>\n",
              "      <td>--</td>\n",
              "      <td>8</td>\n",
              "      <td>--</td>\n",
              "      <td>6</td>\n",
              "      <td>--</td>\n",
              "    </tr>\n",
              "    <tr>\n",
              "      <th>6786</th>\n",
              "      <td>Institute of Hotel Management and Catering Tec...</td>\n",
              "      <td>Dadra</td>\n",
              "      <td>Hotel-management</td>\n",
              "      <td>77,000</td>\n",
              "      <td>--</td>\n",
              "      <td>7.7</td>\n",
              "      <td>7</td>\n",
              "      <td>7</td>\n",
              "      <td>8.2</td>\n",
              "      <td>8.5</td>\n",
              "      <td>8</td>\n",
              "      <td>7.4</td>\n",
              "    </tr>\n",
              "    <tr>\n",
              "      <th>6787</th>\n",
              "      <td>Government Polytechnic, Daman</td>\n",
              "      <td>Daman</td>\n",
              "      <td>Engineering</td>\n",
              "      <td>3,575</td>\n",
              "      <td>8,280</td>\n",
              "      <td>--</td>\n",
              "      <td>--</td>\n",
              "      <td>--</td>\n",
              "      <td>--</td>\n",
              "      <td>--</td>\n",
              "      <td>--</td>\n",
              "      <td>--</td>\n",
              "    </tr>\n",
              "  </tbody>\n",
              "</table>\n",
              "</div>\n",
              "      <button class=\"colab-df-convert\" onclick=\"convertToInteractive('df-6fe1e57d-0ebd-47c3-96c1-b182b5834939')\"\n",
              "              title=\"Convert this dataframe to an interactive table.\"\n",
              "              style=\"display:none;\">\n",
              "        \n",
              "  <svg xmlns=\"http://www.w3.org/2000/svg\" height=\"24px\"viewBox=\"0 0 24 24\"\n",
              "       width=\"24px\">\n",
              "    <path d=\"M0 0h24v24H0V0z\" fill=\"none\"/>\n",
              "    <path d=\"M18.56 5.44l.94 2.06.94-2.06 2.06-.94-2.06-.94-.94-2.06-.94 2.06-2.06.94zm-11 1L8.5 8.5l.94-2.06 2.06-.94-2.06-.94L8.5 2.5l-.94 2.06-2.06.94zm10 10l.94 2.06.94-2.06 2.06-.94-2.06-.94-.94-2.06-.94 2.06-2.06.94z\"/><path d=\"M17.41 7.96l-1.37-1.37c-.4-.4-.92-.59-1.43-.59-.52 0-1.04.2-1.43.59L10.3 9.45l-7.72 7.72c-.78.78-.78 2.05 0 2.83L4 21.41c.39.39.9.59 1.41.59.51 0 1.02-.2 1.41-.59l7.78-7.78 2.81-2.81c.8-.78.8-2.07 0-2.86zM5.41 20L4 18.59l7.72-7.72 1.47 1.35L5.41 20z\"/>\n",
              "  </svg>\n",
              "      </button>\n",
              "      \n",
              "  <style>\n",
              "    .colab-df-container {\n",
              "      display:flex;\n",
              "      flex-wrap:wrap;\n",
              "      gap: 12px;\n",
              "    }\n",
              "\n",
              "    .colab-df-convert {\n",
              "      background-color: #E8F0FE;\n",
              "      border: none;\n",
              "      border-radius: 50%;\n",
              "      cursor: pointer;\n",
              "      display: none;\n",
              "      fill: #1967D2;\n",
              "      height: 32px;\n",
              "      padding: 0 0 0 0;\n",
              "      width: 32px;\n",
              "    }\n",
              "\n",
              "    .colab-df-convert:hover {\n",
              "      background-color: #E2EBFA;\n",
              "      box-shadow: 0px 1px 2px rgba(60, 64, 67, 0.3), 0px 1px 3px 1px rgba(60, 64, 67, 0.15);\n",
              "      fill: #174EA6;\n",
              "    }\n",
              "\n",
              "    [theme=dark] .colab-df-convert {\n",
              "      background-color: #3B4455;\n",
              "      fill: #D2E3FC;\n",
              "    }\n",
              "\n",
              "    [theme=dark] .colab-df-convert:hover {\n",
              "      background-color: #434B5C;\n",
              "      box-shadow: 0px 1px 3px 1px rgba(0, 0, 0, 0.15);\n",
              "      filter: drop-shadow(0px 1px 2px rgba(0, 0, 0, 0.3));\n",
              "      fill: #FFFFFF;\n",
              "    }\n",
              "  </style>\n",
              "\n",
              "      <script>\n",
              "        const buttonEl =\n",
              "          document.querySelector('#df-6fe1e57d-0ebd-47c3-96c1-b182b5834939 button.colab-df-convert');\n",
              "        buttonEl.style.display =\n",
              "          google.colab.kernel.accessAllowed ? 'block' : 'none';\n",
              "\n",
              "        async function convertToInteractive(key) {\n",
              "          const element = document.querySelector('#df-6fe1e57d-0ebd-47c3-96c1-b182b5834939');\n",
              "          const dataTable =\n",
              "            await google.colab.kernel.invokeFunction('convertToInteractive',\n",
              "                                                     [key], {});\n",
              "          if (!dataTable) return;\n",
              "\n",
              "          const docLinkHtml = 'Like what you see? Visit the ' +\n",
              "            '<a target=\"_blank\" href=https://colab.research.google.com/notebooks/data_table.ipynb>data table notebook</a>'\n",
              "            + ' to learn more about interactive tables.';\n",
              "          element.innerHTML = '';\n",
              "          dataTable['output_type'] = 'display_data';\n",
              "          await google.colab.output.renderOutput(dataTable, element);\n",
              "          const docLink = document.createElement('div');\n",
              "          docLink.innerHTML = docLinkHtml;\n",
              "          element.appendChild(docLink);\n",
              "        }\n",
              "      </script>\n",
              "    </div>\n",
              "  </div>\n",
              "  "
            ]
          },
          "metadata": {},
          "execution_count": 9
        }
      ]
    },
    {
      "cell_type": "markdown",
      "source": [
        "### As we can see that many of columns has '--' this value , that not recognized in Null values, so that first we are convert these values to Null and then remove from our dataframe.\n"
      ],
      "metadata": {
        "id": "wkic5W09vY4U"
      }
    },
    {
      "cell_type": "code",
      "source": [
        "college_data.isnull().sum().sort_values(ascending=False)"
      ],
      "metadata": {
        "colab": {
          "base_uri": "https://localhost:8080/"
        },
        "id": "aL6MN9tgeGzc",
        "outputId": "1709db22-cb97-4bf5-ee21-e38aa1e04719"
      },
      "execution_count": 10,
      "outputs": [
        {
          "output_type": "execute_result",
          "data": {
            "text/plain": [
              "College_Name      0\n",
              "State             0\n",
              "Stream            0\n",
              "UG_fee            0\n",
              "PG_fee            0\n",
              "Rating            0\n",
              "Academic          0\n",
              "Accommodation     0\n",
              "Faculty           0\n",
              "Infrastructure    0\n",
              "Placement         0\n",
              "Social_Life       0\n",
              "dtype: int64"
            ]
          },
          "metadata": {},
          "execution_count": 10
        }
      ]
    },
    {
      "cell_type": "markdown",
      "source": [
        "Look at the above table show that 0 the null values count per column but college_data's many columns contains invaild value like \"--\" ,so that we replace \"--\"  with NULL."
      ],
      "metadata": {
        "id": "H9oTS5ugvgOR"
      }
    },
    {
      "cell_type": "code",
      "source": [
        "college_data[\"PG_fee\"] = np.where(college_data[\"PG_fee\"] == \"--\",np.NAN,college_data[\"PG_fee\"])\n",
        "college_data[\"UG_fee\"] = np.where(college_data[\"UG_fee\"] == \"--\", np.NAN,college_data[\"UG_fee\"])\n",
        "college_data[\"Rating\"] = np.where(college_data[\"Rating\"] == \"--\", np.NAN,college_data[\"Rating\"])\n",
        "college_data[\"Academic\"] = np.where(college_data[\"Academic\"] == \"--\", np.NAN,college_data[\"Academic\"])\n",
        "college_data[\"Accommodation\"] = np.where(college_data[\"Accommodation\"] == \"--\", np.NAN,college_data[\"Accommodation\"])\n",
        "college_data[\"Faculty\"] = np.where(college_data[\"Faculty\"] == \"--\", np.NAN,college_data[\"Faculty\"])\n",
        "college_data[\"Infrastructure\"] = np.where(college_data[\"Infrastructure\"] == \"--\", np.NAN,college_data[\"Infrastructure\"])\n",
        "college_data[\"Placement\"] = np.where(college_data[\"Placement\"] == \"--\", np.NAN,college_data[\"Placement\"])\n",
        "college_data[\"Social_Life\"] = np.where(college_data[\"Social_Life\"] == \"--\", np.NAN,college_data[\"Social_Life\"])\n",
        "college_data.tail(10)"
      ],
      "metadata": {
        "colab": {
          "base_uri": "https://localhost:8080/",
          "height": 771
        },
        "id": "YZ426qUGs2UD",
        "outputId": "21398b1d-5ce5-43af-c0c1-2604da26c385"
      },
      "execution_count": 11,
      "outputs": [
        {
          "output_type": "execute_result",
          "data": {
            "text/plain": [
              "                                           College_Name    State  \\\n",
              "6778           Jawaharlal Nehru Rajkeeya Mahavidyalaya   Andaman   \n",
              "6779     Mahatma Gandhi Government College, Mayabander   Andaman   \n",
              "6780  Tagore Government College of Education, Port B...  Andaman   \n",
              "6781  Dr. B R Ambedkar Institute of Technology, Port...  Andaman   \n",
              "6782           Jawaharlal Nehru Rajkeeya Mahavidyalaya   Andaman   \n",
              "6783  Andaman & Nicobar Islands Institute of Medical...  Andaman   \n",
              "6784  Plastindia International University, Dadra & N...    Dadra   \n",
              "6785          SSR Institute of Management and Research     Dadra   \n",
              "6786  Institute of Hotel Management and Catering Tec...    Dadra   \n",
              "6787                     Government Polytechnic, Daman     Daman   \n",
              "\n",
              "                Stream    UG_fee  PG_fee Rating Academic Accommodation  \\\n",
              "6778              Arts       843   1,008    6.6      8.5             5   \n",
              "6779              Arts     1,155     NaN    NaN      NaN           NaN   \n",
              "6780              Arts       NaN     NaN      9        9           NaN   \n",
              "6781  Hotel-management     4,780  11,980    NaN      NaN           NaN   \n",
              "6782       Agriculture       939     NaN    6.6      8.5             5   \n",
              "6783           Medical    91,050     NaN    8.3      8.6           8.4   \n",
              "6784       Engineering       NaN     NaN    NaN      NaN           NaN   \n",
              "6785        Management  1,30,000     NaN      8      NaN           NaN   \n",
              "6786  Hotel-management    77,000     NaN    7.7        7             7   \n",
              "6787       Engineering     3,575   8,280    NaN      NaN           NaN   \n",
              "\n",
              "     Faculty Infrastructure Placement Social_Life  \n",
              "6778       7            7.5       2.5           9  \n",
              "6779     NaN            NaN       NaN         NaN  \n",
              "6780     NaN              9         9         NaN  \n",
              "6781     NaN            NaN       NaN         NaN  \n",
              "6782       7            7.5       2.5           9  \n",
              "6783     8.4            8.3       8.2         8.1  \n",
              "6784     NaN            NaN       NaN         NaN  \n",
              "6785       8            NaN         6         NaN  \n",
              "6786     8.2            8.5         8         7.4  \n",
              "6787     NaN            NaN       NaN         NaN  "
            ],
            "text/html": [
              "\n",
              "  <div id=\"df-cc6f5694-25a0-46d2-ba41-b8ef7075e522\">\n",
              "    <div class=\"colab-df-container\">\n",
              "      <div>\n",
              "<style scoped>\n",
              "    .dataframe tbody tr th:only-of-type {\n",
              "        vertical-align: middle;\n",
              "    }\n",
              "\n",
              "    .dataframe tbody tr th {\n",
              "        vertical-align: top;\n",
              "    }\n",
              "\n",
              "    .dataframe thead th {\n",
              "        text-align: right;\n",
              "    }\n",
              "</style>\n",
              "<table border=\"1\" class=\"dataframe\">\n",
              "  <thead>\n",
              "    <tr style=\"text-align: right;\">\n",
              "      <th></th>\n",
              "      <th>College_Name</th>\n",
              "      <th>State</th>\n",
              "      <th>Stream</th>\n",
              "      <th>UG_fee</th>\n",
              "      <th>PG_fee</th>\n",
              "      <th>Rating</th>\n",
              "      <th>Academic</th>\n",
              "      <th>Accommodation</th>\n",
              "      <th>Faculty</th>\n",
              "      <th>Infrastructure</th>\n",
              "      <th>Placement</th>\n",
              "      <th>Social_Life</th>\n",
              "    </tr>\n",
              "  </thead>\n",
              "  <tbody>\n",
              "    <tr>\n",
              "      <th>6778</th>\n",
              "      <td>Jawaharlal Nehru Rajkeeya Mahavidyalaya</td>\n",
              "      <td>Andaman</td>\n",
              "      <td>Arts</td>\n",
              "      <td>843</td>\n",
              "      <td>1,008</td>\n",
              "      <td>6.6</td>\n",
              "      <td>8.5</td>\n",
              "      <td>5</td>\n",
              "      <td>7</td>\n",
              "      <td>7.5</td>\n",
              "      <td>2.5</td>\n",
              "      <td>9</td>\n",
              "    </tr>\n",
              "    <tr>\n",
              "      <th>6779</th>\n",
              "      <td>Mahatma Gandhi Government College, Mayabander</td>\n",
              "      <td>Andaman</td>\n",
              "      <td>Arts</td>\n",
              "      <td>1,155</td>\n",
              "      <td>NaN</td>\n",
              "      <td>NaN</td>\n",
              "      <td>NaN</td>\n",
              "      <td>NaN</td>\n",
              "      <td>NaN</td>\n",
              "      <td>NaN</td>\n",
              "      <td>NaN</td>\n",
              "      <td>NaN</td>\n",
              "    </tr>\n",
              "    <tr>\n",
              "      <th>6780</th>\n",
              "      <td>Tagore Government College of Education, Port B...</td>\n",
              "      <td>Andaman</td>\n",
              "      <td>Arts</td>\n",
              "      <td>NaN</td>\n",
              "      <td>NaN</td>\n",
              "      <td>9</td>\n",
              "      <td>9</td>\n",
              "      <td>NaN</td>\n",
              "      <td>NaN</td>\n",
              "      <td>9</td>\n",
              "      <td>9</td>\n",
              "      <td>NaN</td>\n",
              "    </tr>\n",
              "    <tr>\n",
              "      <th>6781</th>\n",
              "      <td>Dr. B R Ambedkar Institute of Technology, Port...</td>\n",
              "      <td>Andaman</td>\n",
              "      <td>Hotel-management</td>\n",
              "      <td>4,780</td>\n",
              "      <td>11,980</td>\n",
              "      <td>NaN</td>\n",
              "      <td>NaN</td>\n",
              "      <td>NaN</td>\n",
              "      <td>NaN</td>\n",
              "      <td>NaN</td>\n",
              "      <td>NaN</td>\n",
              "      <td>NaN</td>\n",
              "    </tr>\n",
              "    <tr>\n",
              "      <th>6782</th>\n",
              "      <td>Jawaharlal Nehru Rajkeeya Mahavidyalaya</td>\n",
              "      <td>Andaman</td>\n",
              "      <td>Agriculture</td>\n",
              "      <td>939</td>\n",
              "      <td>NaN</td>\n",
              "      <td>6.6</td>\n",
              "      <td>8.5</td>\n",
              "      <td>5</td>\n",
              "      <td>7</td>\n",
              "      <td>7.5</td>\n",
              "      <td>2.5</td>\n",
              "      <td>9</td>\n",
              "    </tr>\n",
              "    <tr>\n",
              "      <th>6783</th>\n",
              "      <td>Andaman &amp; Nicobar Islands Institute of Medical...</td>\n",
              "      <td>Andaman</td>\n",
              "      <td>Medical</td>\n",
              "      <td>91,050</td>\n",
              "      <td>NaN</td>\n",
              "      <td>8.3</td>\n",
              "      <td>8.6</td>\n",
              "      <td>8.4</td>\n",
              "      <td>8.4</td>\n",
              "      <td>8.3</td>\n",
              "      <td>8.2</td>\n",
              "      <td>8.1</td>\n",
              "    </tr>\n",
              "    <tr>\n",
              "      <th>6784</th>\n",
              "      <td>Plastindia International University, Dadra &amp; N...</td>\n",
              "      <td>Dadra</td>\n",
              "      <td>Engineering</td>\n",
              "      <td>NaN</td>\n",
              "      <td>NaN</td>\n",
              "      <td>NaN</td>\n",
              "      <td>NaN</td>\n",
              "      <td>NaN</td>\n",
              "      <td>NaN</td>\n",
              "      <td>NaN</td>\n",
              "      <td>NaN</td>\n",
              "      <td>NaN</td>\n",
              "    </tr>\n",
              "    <tr>\n",
              "      <th>6785</th>\n",
              "      <td>SSR Institute of Management and Research</td>\n",
              "      <td>Dadra</td>\n",
              "      <td>Management</td>\n",
              "      <td>1,30,000</td>\n",
              "      <td>NaN</td>\n",
              "      <td>8</td>\n",
              "      <td>NaN</td>\n",
              "      <td>NaN</td>\n",
              "      <td>8</td>\n",
              "      <td>NaN</td>\n",
              "      <td>6</td>\n",
              "      <td>NaN</td>\n",
              "    </tr>\n",
              "    <tr>\n",
              "      <th>6786</th>\n",
              "      <td>Institute of Hotel Management and Catering Tec...</td>\n",
              "      <td>Dadra</td>\n",
              "      <td>Hotel-management</td>\n",
              "      <td>77,000</td>\n",
              "      <td>NaN</td>\n",
              "      <td>7.7</td>\n",
              "      <td>7</td>\n",
              "      <td>7</td>\n",
              "      <td>8.2</td>\n",
              "      <td>8.5</td>\n",
              "      <td>8</td>\n",
              "      <td>7.4</td>\n",
              "    </tr>\n",
              "    <tr>\n",
              "      <th>6787</th>\n",
              "      <td>Government Polytechnic, Daman</td>\n",
              "      <td>Daman</td>\n",
              "      <td>Engineering</td>\n",
              "      <td>3,575</td>\n",
              "      <td>8,280</td>\n",
              "      <td>NaN</td>\n",
              "      <td>NaN</td>\n",
              "      <td>NaN</td>\n",
              "      <td>NaN</td>\n",
              "      <td>NaN</td>\n",
              "      <td>NaN</td>\n",
              "      <td>NaN</td>\n",
              "    </tr>\n",
              "  </tbody>\n",
              "</table>\n",
              "</div>\n",
              "      <button class=\"colab-df-convert\" onclick=\"convertToInteractive('df-cc6f5694-25a0-46d2-ba41-b8ef7075e522')\"\n",
              "              title=\"Convert this dataframe to an interactive table.\"\n",
              "              style=\"display:none;\">\n",
              "        \n",
              "  <svg xmlns=\"http://www.w3.org/2000/svg\" height=\"24px\"viewBox=\"0 0 24 24\"\n",
              "       width=\"24px\">\n",
              "    <path d=\"M0 0h24v24H0V0z\" fill=\"none\"/>\n",
              "    <path d=\"M18.56 5.44l.94 2.06.94-2.06 2.06-.94-2.06-.94-.94-2.06-.94 2.06-2.06.94zm-11 1L8.5 8.5l.94-2.06 2.06-.94-2.06-.94L8.5 2.5l-.94 2.06-2.06.94zm10 10l.94 2.06.94-2.06 2.06-.94-2.06-.94-.94-2.06-.94 2.06-2.06.94z\"/><path d=\"M17.41 7.96l-1.37-1.37c-.4-.4-.92-.59-1.43-.59-.52 0-1.04.2-1.43.59L10.3 9.45l-7.72 7.72c-.78.78-.78 2.05 0 2.83L4 21.41c.39.39.9.59 1.41.59.51 0 1.02-.2 1.41-.59l7.78-7.78 2.81-2.81c.8-.78.8-2.07 0-2.86zM5.41 20L4 18.59l7.72-7.72 1.47 1.35L5.41 20z\"/>\n",
              "  </svg>\n",
              "      </button>\n",
              "      \n",
              "  <style>\n",
              "    .colab-df-container {\n",
              "      display:flex;\n",
              "      flex-wrap:wrap;\n",
              "      gap: 12px;\n",
              "    }\n",
              "\n",
              "    .colab-df-convert {\n",
              "      background-color: #E8F0FE;\n",
              "      border: none;\n",
              "      border-radius: 50%;\n",
              "      cursor: pointer;\n",
              "      display: none;\n",
              "      fill: #1967D2;\n",
              "      height: 32px;\n",
              "      padding: 0 0 0 0;\n",
              "      width: 32px;\n",
              "    }\n",
              "\n",
              "    .colab-df-convert:hover {\n",
              "      background-color: #E2EBFA;\n",
              "      box-shadow: 0px 1px 2px rgba(60, 64, 67, 0.3), 0px 1px 3px 1px rgba(60, 64, 67, 0.15);\n",
              "      fill: #174EA6;\n",
              "    }\n",
              "\n",
              "    [theme=dark] .colab-df-convert {\n",
              "      background-color: #3B4455;\n",
              "      fill: #D2E3FC;\n",
              "    }\n",
              "\n",
              "    [theme=dark] .colab-df-convert:hover {\n",
              "      background-color: #434B5C;\n",
              "      box-shadow: 0px 1px 3px 1px rgba(0, 0, 0, 0.15);\n",
              "      filter: drop-shadow(0px 1px 2px rgba(0, 0, 0, 0.3));\n",
              "      fill: #FFFFFF;\n",
              "    }\n",
              "  </style>\n",
              "\n",
              "      <script>\n",
              "        const buttonEl =\n",
              "          document.querySelector('#df-cc6f5694-25a0-46d2-ba41-b8ef7075e522 button.colab-df-convert');\n",
              "        buttonEl.style.display =\n",
              "          google.colab.kernel.accessAllowed ? 'block' : 'none';\n",
              "\n",
              "        async function convertToInteractive(key) {\n",
              "          const element = document.querySelector('#df-cc6f5694-25a0-46d2-ba41-b8ef7075e522');\n",
              "          const dataTable =\n",
              "            await google.colab.kernel.invokeFunction('convertToInteractive',\n",
              "                                                     [key], {});\n",
              "          if (!dataTable) return;\n",
              "\n",
              "          const docLinkHtml = 'Like what you see? Visit the ' +\n",
              "            '<a target=\"_blank\" href=https://colab.research.google.com/notebooks/data_table.ipynb>data table notebook</a>'\n",
              "            + ' to learn more about interactive tables.';\n",
              "          element.innerHTML = '';\n",
              "          dataTable['output_type'] = 'display_data';\n",
              "          await google.colab.output.renderOutput(dataTable, element);\n",
              "          const docLink = document.createElement('div');\n",
              "          docLink.innerHTML = docLinkHtml;\n",
              "          element.appendChild(docLink);\n",
              "        }\n",
              "      </script>\n",
              "    </div>\n",
              "  </div>\n",
              "  "
            ]
          },
          "metadata": {},
          "execution_count": 11
        }
      ]
    },
    {
      "cell_type": "markdown",
      "source": [
        "### As we can see that many of columns has '--' this value , that not recognized in Null values, so that first we are convert these values to Null and then remove from our dataframe.\n",
        "\n"
      ],
      "metadata": {
        "id": "8qJXuDR_2eck"
      }
    },
    {
      "cell_type": "code",
      "source": [
        "college_data.isnull().sum().sort_values(ascending=False)"
      ],
      "metadata": {
        "colab": {
          "base_uri": "https://localhost:8080/"
        },
        "id": "YlH42Iq2zjXQ",
        "outputId": "65db3515-8af4-495a-b7bb-691bc2bbc254"
      },
      "execution_count": 12,
      "outputs": [
        {
          "output_type": "execute_result",
          "data": {
            "text/plain": [
              "PG_fee            3311\n",
              "UG_fee            1170\n",
              "Social_Life        954\n",
              "Infrastructure     916\n",
              "Faculty            907\n",
              "Placement          890\n",
              "Accommodation      889\n",
              "Academic           846\n",
              "Rating             732\n",
              "College_Name         0\n",
              "State                0\n",
              "Stream               0\n",
              "dtype: int64"
            ]
          },
          "metadata": {},
          "execution_count": 12
        }
      ]
    },
    {
      "cell_type": "code",
      "source": [
        "college_data.dropna(inplace=True)"
      ],
      "metadata": {
        "id": "GxbKIHmj1WlG"
      },
      "execution_count": 13,
      "outputs": []
    },
    {
      "cell_type": "code",
      "source": [
        "college_data.isnull().sum()"
      ],
      "metadata": {
        "colab": {
          "base_uri": "https://localhost:8080/"
        },
        "id": "J0im1RIl1gv9",
        "outputId": "9d4d1ede-dbfd-44ab-882c-601d5fc959ee"
      },
      "execution_count": 14,
      "outputs": [
        {
          "output_type": "execute_result",
          "data": {
            "text/plain": [
              "College_Name      0\n",
              "State             0\n",
              "Stream            0\n",
              "UG_fee            0\n",
              "PG_fee            0\n",
              "Rating            0\n",
              "Academic          0\n",
              "Accommodation     0\n",
              "Faculty           0\n",
              "Infrastructure    0\n",
              "Placement         0\n",
              "Social_Life       0\n",
              "dtype: int64"
            ]
          },
          "metadata": {},
          "execution_count": 14
        }
      ]
    },
    {
      "cell_type": "code",
      "source": [
        "college_data.shape\n"
      ],
      "metadata": {
        "colab": {
          "base_uri": "https://localhost:8080/"
        },
        "id": "9AdmDEyl1jkk",
        "outputId": "ef0a6414-7627-4588-d299-cc6578271359"
      },
      "execution_count": 15,
      "outputs": [
        {
          "output_type": "execute_result",
          "data": {
            "text/plain": [
              "(3195, 12)"
            ]
          },
          "metadata": {},
          "execution_count": 15
        }
      ]
    },
    {
      "cell_type": "code",
      "source": [
        "college_data.head()"
      ],
      "metadata": {
        "colab": {
          "base_uri": "https://localhost:8080/",
          "height": 337
        },
        "id": "8bvibWza14jo",
        "outputId": "07128c50-af7b-44f3-9398-ee8b77e24b4d"
      },
      "execution_count": 16,
      "outputs": [
        {
          "output_type": "execute_result",
          "data": {
            "text/plain": [
              "                               College_Name       State       Stream  \\\n",
              "0    Indian Institute of Technology Madras   Tamil nadu  Engineering   \n",
              "1  College of Engineering, Anna University   Tamil nadu  Engineering   \n",
              "2              NIT Trichy, Tiruchirappalli   Tamil nadu  Engineering   \n",
              "3          Vellore Institute of Technology   Tamil nadu  Engineering   \n",
              "4     SRM Engineering College, Kanchipuram   Tamil nadu  Engineering   \n",
              "\n",
              "     UG_fee    PG_fee Rating Academic Accommodation Faculty Infrastructure  \\\n",
              "0    75,116    23,070    8.7        9           7.9     8.7            8.8   \n",
              "1    50,000    50,000    8.4      8.7           7.7     8.1            8.7   \n",
              "2  1,49,250    99,250    8.5      8.6           7.8     8.2            8.7   \n",
              "3  1,98,000  1,83,000    8.3      8.3             8     7.8            8.9   \n",
              "4  2,60,000  1,70,000    7.2      6.5           6.6     6.9            7.6   \n",
              "\n",
              "  Placement Social_Life  \n",
              "0       8.8           9  \n",
              "1       8.3         8.7  \n",
              "2       8.8         8.7  \n",
              "3       8.5         8.5  \n",
              "4       7.1         8.3  "
            ],
            "text/html": [
              "\n",
              "  <div id=\"df-9509a777-78d2-4fa5-a71b-16c29ddb448a\">\n",
              "    <div class=\"colab-df-container\">\n",
              "      <div>\n",
              "<style scoped>\n",
              "    .dataframe tbody tr th:only-of-type {\n",
              "        vertical-align: middle;\n",
              "    }\n",
              "\n",
              "    .dataframe tbody tr th {\n",
              "        vertical-align: top;\n",
              "    }\n",
              "\n",
              "    .dataframe thead th {\n",
              "        text-align: right;\n",
              "    }\n",
              "</style>\n",
              "<table border=\"1\" class=\"dataframe\">\n",
              "  <thead>\n",
              "    <tr style=\"text-align: right;\">\n",
              "      <th></th>\n",
              "      <th>College_Name</th>\n",
              "      <th>State</th>\n",
              "      <th>Stream</th>\n",
              "      <th>UG_fee</th>\n",
              "      <th>PG_fee</th>\n",
              "      <th>Rating</th>\n",
              "      <th>Academic</th>\n",
              "      <th>Accommodation</th>\n",
              "      <th>Faculty</th>\n",
              "      <th>Infrastructure</th>\n",
              "      <th>Placement</th>\n",
              "      <th>Social_Life</th>\n",
              "    </tr>\n",
              "  </thead>\n",
              "  <tbody>\n",
              "    <tr>\n",
              "      <th>0</th>\n",
              "      <td>Indian Institute of Technology Madras</td>\n",
              "      <td>Tamil nadu</td>\n",
              "      <td>Engineering</td>\n",
              "      <td>75,116</td>\n",
              "      <td>23,070</td>\n",
              "      <td>8.7</td>\n",
              "      <td>9</td>\n",
              "      <td>7.9</td>\n",
              "      <td>8.7</td>\n",
              "      <td>8.8</td>\n",
              "      <td>8.8</td>\n",
              "      <td>9</td>\n",
              "    </tr>\n",
              "    <tr>\n",
              "      <th>1</th>\n",
              "      <td>College of Engineering, Anna University</td>\n",
              "      <td>Tamil nadu</td>\n",
              "      <td>Engineering</td>\n",
              "      <td>50,000</td>\n",
              "      <td>50,000</td>\n",
              "      <td>8.4</td>\n",
              "      <td>8.7</td>\n",
              "      <td>7.7</td>\n",
              "      <td>8.1</td>\n",
              "      <td>8.7</td>\n",
              "      <td>8.3</td>\n",
              "      <td>8.7</td>\n",
              "    </tr>\n",
              "    <tr>\n",
              "      <th>2</th>\n",
              "      <td>NIT Trichy, Tiruchirappalli</td>\n",
              "      <td>Tamil nadu</td>\n",
              "      <td>Engineering</td>\n",
              "      <td>1,49,250</td>\n",
              "      <td>99,250</td>\n",
              "      <td>8.5</td>\n",
              "      <td>8.6</td>\n",
              "      <td>7.8</td>\n",
              "      <td>8.2</td>\n",
              "      <td>8.7</td>\n",
              "      <td>8.8</td>\n",
              "      <td>8.7</td>\n",
              "    </tr>\n",
              "    <tr>\n",
              "      <th>3</th>\n",
              "      <td>Vellore Institute of Technology</td>\n",
              "      <td>Tamil nadu</td>\n",
              "      <td>Engineering</td>\n",
              "      <td>1,98,000</td>\n",
              "      <td>1,83,000</td>\n",
              "      <td>8.3</td>\n",
              "      <td>8.3</td>\n",
              "      <td>8</td>\n",
              "      <td>7.8</td>\n",
              "      <td>8.9</td>\n",
              "      <td>8.5</td>\n",
              "      <td>8.5</td>\n",
              "    </tr>\n",
              "    <tr>\n",
              "      <th>4</th>\n",
              "      <td>SRM Engineering College, Kanchipuram</td>\n",
              "      <td>Tamil nadu</td>\n",
              "      <td>Engineering</td>\n",
              "      <td>2,60,000</td>\n",
              "      <td>1,70,000</td>\n",
              "      <td>7.2</td>\n",
              "      <td>6.5</td>\n",
              "      <td>6.6</td>\n",
              "      <td>6.9</td>\n",
              "      <td>7.6</td>\n",
              "      <td>7.1</td>\n",
              "      <td>8.3</td>\n",
              "    </tr>\n",
              "  </tbody>\n",
              "</table>\n",
              "</div>\n",
              "      <button class=\"colab-df-convert\" onclick=\"convertToInteractive('df-9509a777-78d2-4fa5-a71b-16c29ddb448a')\"\n",
              "              title=\"Convert this dataframe to an interactive table.\"\n",
              "              style=\"display:none;\">\n",
              "        \n",
              "  <svg xmlns=\"http://www.w3.org/2000/svg\" height=\"24px\"viewBox=\"0 0 24 24\"\n",
              "       width=\"24px\">\n",
              "    <path d=\"M0 0h24v24H0V0z\" fill=\"none\"/>\n",
              "    <path d=\"M18.56 5.44l.94 2.06.94-2.06 2.06-.94-2.06-.94-.94-2.06-.94 2.06-2.06.94zm-11 1L8.5 8.5l.94-2.06 2.06-.94-2.06-.94L8.5 2.5l-.94 2.06-2.06.94zm10 10l.94 2.06.94-2.06 2.06-.94-2.06-.94-.94-2.06-.94 2.06-2.06.94z\"/><path d=\"M17.41 7.96l-1.37-1.37c-.4-.4-.92-.59-1.43-.59-.52 0-1.04.2-1.43.59L10.3 9.45l-7.72 7.72c-.78.78-.78 2.05 0 2.83L4 21.41c.39.39.9.59 1.41.59.51 0 1.02-.2 1.41-.59l7.78-7.78 2.81-2.81c.8-.78.8-2.07 0-2.86zM5.41 20L4 18.59l7.72-7.72 1.47 1.35L5.41 20z\"/>\n",
              "  </svg>\n",
              "      </button>\n",
              "      \n",
              "  <style>\n",
              "    .colab-df-container {\n",
              "      display:flex;\n",
              "      flex-wrap:wrap;\n",
              "      gap: 12px;\n",
              "    }\n",
              "\n",
              "    .colab-df-convert {\n",
              "      background-color: #E8F0FE;\n",
              "      border: none;\n",
              "      border-radius: 50%;\n",
              "      cursor: pointer;\n",
              "      display: none;\n",
              "      fill: #1967D2;\n",
              "      height: 32px;\n",
              "      padding: 0 0 0 0;\n",
              "      width: 32px;\n",
              "    }\n",
              "\n",
              "    .colab-df-convert:hover {\n",
              "      background-color: #E2EBFA;\n",
              "      box-shadow: 0px 1px 2px rgba(60, 64, 67, 0.3), 0px 1px 3px 1px rgba(60, 64, 67, 0.15);\n",
              "      fill: #174EA6;\n",
              "    }\n",
              "\n",
              "    [theme=dark] .colab-df-convert {\n",
              "      background-color: #3B4455;\n",
              "      fill: #D2E3FC;\n",
              "    }\n",
              "\n",
              "    [theme=dark] .colab-df-convert:hover {\n",
              "      background-color: #434B5C;\n",
              "      box-shadow: 0px 1px 3px 1px rgba(0, 0, 0, 0.15);\n",
              "      filter: drop-shadow(0px 1px 2px rgba(0, 0, 0, 0.3));\n",
              "      fill: #FFFFFF;\n",
              "    }\n",
              "  </style>\n",
              "\n",
              "      <script>\n",
              "        const buttonEl =\n",
              "          document.querySelector('#df-9509a777-78d2-4fa5-a71b-16c29ddb448a button.colab-df-convert');\n",
              "        buttonEl.style.display =\n",
              "          google.colab.kernel.accessAllowed ? 'block' : 'none';\n",
              "\n",
              "        async function convertToInteractive(key) {\n",
              "          const element = document.querySelector('#df-9509a777-78d2-4fa5-a71b-16c29ddb448a');\n",
              "          const dataTable =\n",
              "            await google.colab.kernel.invokeFunction('convertToInteractive',\n",
              "                                                     [key], {});\n",
              "          if (!dataTable) return;\n",
              "\n",
              "          const docLinkHtml = 'Like what you see? Visit the ' +\n",
              "            '<a target=\"_blank\" href=https://colab.research.google.com/notebooks/data_table.ipynb>data table notebook</a>'\n",
              "            + ' to learn more about interactive tables.';\n",
              "          element.innerHTML = '';\n",
              "          dataTable['output_type'] = 'display_data';\n",
              "          await google.colab.output.renderOutput(dataTable, element);\n",
              "          const docLink = document.createElement('div');\n",
              "          docLink.innerHTML = docLinkHtml;\n",
              "          element.appendChild(docLink);\n",
              "        }\n",
              "      </script>\n",
              "    </div>\n",
              "  </div>\n",
              "  "
            ]
          },
          "metadata": {},
          "execution_count": 16
        }
      ]
    },
    {
      "cell_type": "markdown",
      "source": [
        "### As we look at the above data , We can see that Rating column has overall rating of the college means average of the Academic Rating, Accommodation Rating, Faculty Rating, Infrastructure Rating, Placement Rating, Social_Life Rating. These various type of Rating columns does not affect our outcome . Therefore , We can remove these Rating columns and only keep is Overall Rating column. "
      ],
      "metadata": {
        "id": "0htp357Jg1sL"
      }
    },
    {
      "cell_type": "code",
      "source": [
        "new_collegedata=college_data[['College_Name','State','Stream','UG_fee','PG_fee','Rating']]\n",
        "new_collegedata.head()"
      ],
      "metadata": {
        "colab": {
          "base_uri": "https://localhost:8080/",
          "height": 206
        },
        "id": "peqcLEwnDDhZ",
        "outputId": "9225a05d-99f0-45c8-f5b9-659759ca79ab"
      },
      "execution_count": 17,
      "outputs": [
        {
          "output_type": "execute_result",
          "data": {
            "text/plain": [
              "                               College_Name       State       Stream  \\\n",
              "0    Indian Institute of Technology Madras   Tamil nadu  Engineering   \n",
              "1  College of Engineering, Anna University   Tamil nadu  Engineering   \n",
              "2              NIT Trichy, Tiruchirappalli   Tamil nadu  Engineering   \n",
              "3          Vellore Institute of Technology   Tamil nadu  Engineering   \n",
              "4     SRM Engineering College, Kanchipuram   Tamil nadu  Engineering   \n",
              "\n",
              "     UG_fee    PG_fee Rating  \n",
              "0    75,116    23,070    8.7  \n",
              "1    50,000    50,000    8.4  \n",
              "2  1,49,250    99,250    8.5  \n",
              "3  1,98,000  1,83,000    8.3  \n",
              "4  2,60,000  1,70,000    7.2  "
            ],
            "text/html": [
              "\n",
              "  <div id=\"df-f82d74f3-0170-4fa5-adaf-872d1bd2b22c\">\n",
              "    <div class=\"colab-df-container\">\n",
              "      <div>\n",
              "<style scoped>\n",
              "    .dataframe tbody tr th:only-of-type {\n",
              "        vertical-align: middle;\n",
              "    }\n",
              "\n",
              "    .dataframe tbody tr th {\n",
              "        vertical-align: top;\n",
              "    }\n",
              "\n",
              "    .dataframe thead th {\n",
              "        text-align: right;\n",
              "    }\n",
              "</style>\n",
              "<table border=\"1\" class=\"dataframe\">\n",
              "  <thead>\n",
              "    <tr style=\"text-align: right;\">\n",
              "      <th></th>\n",
              "      <th>College_Name</th>\n",
              "      <th>State</th>\n",
              "      <th>Stream</th>\n",
              "      <th>UG_fee</th>\n",
              "      <th>PG_fee</th>\n",
              "      <th>Rating</th>\n",
              "    </tr>\n",
              "  </thead>\n",
              "  <tbody>\n",
              "    <tr>\n",
              "      <th>0</th>\n",
              "      <td>Indian Institute of Technology Madras</td>\n",
              "      <td>Tamil nadu</td>\n",
              "      <td>Engineering</td>\n",
              "      <td>75,116</td>\n",
              "      <td>23,070</td>\n",
              "      <td>8.7</td>\n",
              "    </tr>\n",
              "    <tr>\n",
              "      <th>1</th>\n",
              "      <td>College of Engineering, Anna University</td>\n",
              "      <td>Tamil nadu</td>\n",
              "      <td>Engineering</td>\n",
              "      <td>50,000</td>\n",
              "      <td>50,000</td>\n",
              "      <td>8.4</td>\n",
              "    </tr>\n",
              "    <tr>\n",
              "      <th>2</th>\n",
              "      <td>NIT Trichy, Tiruchirappalli</td>\n",
              "      <td>Tamil nadu</td>\n",
              "      <td>Engineering</td>\n",
              "      <td>1,49,250</td>\n",
              "      <td>99,250</td>\n",
              "      <td>8.5</td>\n",
              "    </tr>\n",
              "    <tr>\n",
              "      <th>3</th>\n",
              "      <td>Vellore Institute of Technology</td>\n",
              "      <td>Tamil nadu</td>\n",
              "      <td>Engineering</td>\n",
              "      <td>1,98,000</td>\n",
              "      <td>1,83,000</td>\n",
              "      <td>8.3</td>\n",
              "    </tr>\n",
              "    <tr>\n",
              "      <th>4</th>\n",
              "      <td>SRM Engineering College, Kanchipuram</td>\n",
              "      <td>Tamil nadu</td>\n",
              "      <td>Engineering</td>\n",
              "      <td>2,60,000</td>\n",
              "      <td>1,70,000</td>\n",
              "      <td>7.2</td>\n",
              "    </tr>\n",
              "  </tbody>\n",
              "</table>\n",
              "</div>\n",
              "      <button class=\"colab-df-convert\" onclick=\"convertToInteractive('df-f82d74f3-0170-4fa5-adaf-872d1bd2b22c')\"\n",
              "              title=\"Convert this dataframe to an interactive table.\"\n",
              "              style=\"display:none;\">\n",
              "        \n",
              "  <svg xmlns=\"http://www.w3.org/2000/svg\" height=\"24px\"viewBox=\"0 0 24 24\"\n",
              "       width=\"24px\">\n",
              "    <path d=\"M0 0h24v24H0V0z\" fill=\"none\"/>\n",
              "    <path d=\"M18.56 5.44l.94 2.06.94-2.06 2.06-.94-2.06-.94-.94-2.06-.94 2.06-2.06.94zm-11 1L8.5 8.5l.94-2.06 2.06-.94-2.06-.94L8.5 2.5l-.94 2.06-2.06.94zm10 10l.94 2.06.94-2.06 2.06-.94-2.06-.94-.94-2.06-.94 2.06-2.06.94z\"/><path d=\"M17.41 7.96l-1.37-1.37c-.4-.4-.92-.59-1.43-.59-.52 0-1.04.2-1.43.59L10.3 9.45l-7.72 7.72c-.78.78-.78 2.05 0 2.83L4 21.41c.39.39.9.59 1.41.59.51 0 1.02-.2 1.41-.59l7.78-7.78 2.81-2.81c.8-.78.8-2.07 0-2.86zM5.41 20L4 18.59l7.72-7.72 1.47 1.35L5.41 20z\"/>\n",
              "  </svg>\n",
              "      </button>\n",
              "      \n",
              "  <style>\n",
              "    .colab-df-container {\n",
              "      display:flex;\n",
              "      flex-wrap:wrap;\n",
              "      gap: 12px;\n",
              "    }\n",
              "\n",
              "    .colab-df-convert {\n",
              "      background-color: #E8F0FE;\n",
              "      border: none;\n",
              "      border-radius: 50%;\n",
              "      cursor: pointer;\n",
              "      display: none;\n",
              "      fill: #1967D2;\n",
              "      height: 32px;\n",
              "      padding: 0 0 0 0;\n",
              "      width: 32px;\n",
              "    }\n",
              "\n",
              "    .colab-df-convert:hover {\n",
              "      background-color: #E2EBFA;\n",
              "      box-shadow: 0px 1px 2px rgba(60, 64, 67, 0.3), 0px 1px 3px 1px rgba(60, 64, 67, 0.15);\n",
              "      fill: #174EA6;\n",
              "    }\n",
              "\n",
              "    [theme=dark] .colab-df-convert {\n",
              "      background-color: #3B4455;\n",
              "      fill: #D2E3FC;\n",
              "    }\n",
              "\n",
              "    [theme=dark] .colab-df-convert:hover {\n",
              "      background-color: #434B5C;\n",
              "      box-shadow: 0px 1px 3px 1px rgba(0, 0, 0, 0.15);\n",
              "      filter: drop-shadow(0px 1px 2px rgba(0, 0, 0, 0.3));\n",
              "      fill: #FFFFFF;\n",
              "    }\n",
              "  </style>\n",
              "\n",
              "      <script>\n",
              "        const buttonEl =\n",
              "          document.querySelector('#df-f82d74f3-0170-4fa5-adaf-872d1bd2b22c button.colab-df-convert');\n",
              "        buttonEl.style.display =\n",
              "          google.colab.kernel.accessAllowed ? 'block' : 'none';\n",
              "\n",
              "        async function convertToInteractive(key) {\n",
              "          const element = document.querySelector('#df-f82d74f3-0170-4fa5-adaf-872d1bd2b22c');\n",
              "          const dataTable =\n",
              "            await google.colab.kernel.invokeFunction('convertToInteractive',\n",
              "                                                     [key], {});\n",
              "          if (!dataTable) return;\n",
              "\n",
              "          const docLinkHtml = 'Like what you see? Visit the ' +\n",
              "            '<a target=\"_blank\" href=https://colab.research.google.com/notebooks/data_table.ipynb>data table notebook</a>'\n",
              "            + ' to learn more about interactive tables.';\n",
              "          element.innerHTML = '';\n",
              "          dataTable['output_type'] = 'display_data';\n",
              "          await google.colab.output.renderOutput(dataTable, element);\n",
              "          const docLink = document.createElement('div');\n",
              "          docLink.innerHTML = docLinkHtml;\n",
              "          element.appendChild(docLink);\n",
              "        }\n",
              "      </script>\n",
              "    </div>\n",
              "  </div>\n",
              "  "
            ]
          },
          "metadata": {},
          "execution_count": 17
        }
      ]
    },
    {
      "cell_type": "code",
      "source": [
        "new_collegedata.dtypes"
      ],
      "metadata": {
        "colab": {
          "base_uri": "https://localhost:8080/"
        },
        "id": "KjO6zsHvh_o-",
        "outputId": "a963f3ee-0080-4a79-c7a2-74c8c287f862"
      },
      "execution_count": 18,
      "outputs": [
        {
          "output_type": "execute_result",
          "data": {
            "text/plain": [
              "College_Name    object\n",
              "State           object\n",
              "Stream          object\n",
              "UG_fee          object\n",
              "PG_fee          object\n",
              "Rating          object\n",
              "dtype: object"
            ]
          },
          "metadata": {},
          "execution_count": 18
        }
      ]
    },
    {
      "cell_type": "code",
      "source": [
        "new_collegedata.isnull().sum()"
      ],
      "metadata": {
        "colab": {
          "base_uri": "https://localhost:8080/"
        },
        "id": "ZXD6-mPWiOCx",
        "outputId": "111e1683-bbab-480b-e43e-c9013be1bd29"
      },
      "execution_count": 19,
      "outputs": [
        {
          "output_type": "execute_result",
          "data": {
            "text/plain": [
              "College_Name    0\n",
              "State           0\n",
              "Stream          0\n",
              "UG_fee          0\n",
              "PG_fee          0\n",
              "Rating          0\n",
              "dtype: int64"
            ]
          },
          "metadata": {},
          "execution_count": 19
        }
      ]
    },
    {
      "cell_type": "markdown",
      "source": [
        "### Now , Our Data-set not contain any miss leading values that affect the our outcome. Here, data cleaning is done.\n",
        "\n",
        "### The output of this operations  ensure that dataframe not have any missing , incorrect, inconsistant and inavild values . These clean dataframe used for model building to produce meaningful & correct output.  \n",
        "\n",
        "# 3. Model Buliding \n",
        "\n"
      ],
      "metadata": {
        "id": "Cq-ot1g72Aqq"
      }
    },
    {
      "cell_type": "markdown",
      "source": [
        "### For good model building ,It is necessary that which data is used  that are in correct format . Otherwise, That also lead miss leading output of model and decrease the accurecy of model.\n",
        "\n",
        "### Here, We can need to change the dataType of the OverallRating, UG_fee , PG_fee columns object type to float , int , int respectively."
      ],
      "metadata": {
        "id": "CPMo-7Ioi01Q"
      }
    },
    {
      "cell_type": "code",
      "source": [
        "new_collegedata['Rating'] = new_collegedata['Rating'].astype(float)  \n",
        "new_collegedata.rename(columns={'Rating':'Overall_Rating'},inplace=True)\n",
        "print(new_collegedata.dtypes)"
      ],
      "metadata": {
        "colab": {
          "base_uri": "https://localhost:8080/"
        },
        "id": "1WHnntvQWH_8",
        "outputId": "e336f30d-3d68-4b52-ecbf-2822e04f5bb5"
      },
      "execution_count": 20,
      "outputs": [
        {
          "output_type": "stream",
          "name": "stdout",
          "text": [
            "College_Name       object\n",
            "State              object\n",
            "Stream             object\n",
            "UG_fee             object\n",
            "PG_fee             object\n",
            "Overall_Rating    float64\n",
            "dtype: object\n"
          ]
        },
        {
          "output_type": "stream",
          "name": "stderr",
          "text": [
            "/usr/local/lib/python3.7/dist-packages/ipykernel_launcher.py:1: SettingWithCopyWarning: \n",
            "A value is trying to be set on a copy of a slice from a DataFrame.\n",
            "Try using .loc[row_indexer,col_indexer] = value instead\n",
            "\n",
            "See the caveats in the documentation: https://pandas.pydata.org/pandas-docs/stable/user_guide/indexing.html#returning-a-view-versus-a-copy\n",
            "  \"\"\"Entry point for launching an IPython kernel.\n",
            "/usr/local/lib/python3.7/dist-packages/pandas/core/frame.py:5047: SettingWithCopyWarning: \n",
            "A value is trying to be set on a copy of a slice from a DataFrame\n",
            "\n",
            "See the caveats in the documentation: https://pandas.pydata.org/pandas-docs/stable/user_guide/indexing.html#returning-a-view-versus-a-copy\n",
            "  errors=errors,\n"
          ]
        }
      ]
    },
    {
      "cell_type": "code",
      "source": [
        "new_collegedata.head()"
      ],
      "metadata": {
        "colab": {
          "base_uri": "https://localhost:8080/",
          "height": 206
        },
        "id": "qEyWQejsmYgj",
        "outputId": "b53fc95a-8abe-4be4-9420-edddcd3b31e8"
      },
      "execution_count": 21,
      "outputs": [
        {
          "output_type": "execute_result",
          "data": {
            "text/plain": [
              "                               College_Name       State       Stream  \\\n",
              "0    Indian Institute of Technology Madras   Tamil nadu  Engineering   \n",
              "1  College of Engineering, Anna University   Tamil nadu  Engineering   \n",
              "2              NIT Trichy, Tiruchirappalli   Tamil nadu  Engineering   \n",
              "3          Vellore Institute of Technology   Tamil nadu  Engineering   \n",
              "4     SRM Engineering College, Kanchipuram   Tamil nadu  Engineering   \n",
              "\n",
              "     UG_fee    PG_fee  Overall_Rating  \n",
              "0    75,116    23,070             8.7  \n",
              "1    50,000    50,000             8.4  \n",
              "2  1,49,250    99,250             8.5  \n",
              "3  1,98,000  1,83,000             8.3  \n",
              "4  2,60,000  1,70,000             7.2  "
            ],
            "text/html": [
              "\n",
              "  <div id=\"df-ac035723-4d07-41d3-9d43-64e7c0830d80\">\n",
              "    <div class=\"colab-df-container\">\n",
              "      <div>\n",
              "<style scoped>\n",
              "    .dataframe tbody tr th:only-of-type {\n",
              "        vertical-align: middle;\n",
              "    }\n",
              "\n",
              "    .dataframe tbody tr th {\n",
              "        vertical-align: top;\n",
              "    }\n",
              "\n",
              "    .dataframe thead th {\n",
              "        text-align: right;\n",
              "    }\n",
              "</style>\n",
              "<table border=\"1\" class=\"dataframe\">\n",
              "  <thead>\n",
              "    <tr style=\"text-align: right;\">\n",
              "      <th></th>\n",
              "      <th>College_Name</th>\n",
              "      <th>State</th>\n",
              "      <th>Stream</th>\n",
              "      <th>UG_fee</th>\n",
              "      <th>PG_fee</th>\n",
              "      <th>Overall_Rating</th>\n",
              "    </tr>\n",
              "  </thead>\n",
              "  <tbody>\n",
              "    <tr>\n",
              "      <th>0</th>\n",
              "      <td>Indian Institute of Technology Madras</td>\n",
              "      <td>Tamil nadu</td>\n",
              "      <td>Engineering</td>\n",
              "      <td>75,116</td>\n",
              "      <td>23,070</td>\n",
              "      <td>8.7</td>\n",
              "    </tr>\n",
              "    <tr>\n",
              "      <th>1</th>\n",
              "      <td>College of Engineering, Anna University</td>\n",
              "      <td>Tamil nadu</td>\n",
              "      <td>Engineering</td>\n",
              "      <td>50,000</td>\n",
              "      <td>50,000</td>\n",
              "      <td>8.4</td>\n",
              "    </tr>\n",
              "    <tr>\n",
              "      <th>2</th>\n",
              "      <td>NIT Trichy, Tiruchirappalli</td>\n",
              "      <td>Tamil nadu</td>\n",
              "      <td>Engineering</td>\n",
              "      <td>1,49,250</td>\n",
              "      <td>99,250</td>\n",
              "      <td>8.5</td>\n",
              "    </tr>\n",
              "    <tr>\n",
              "      <th>3</th>\n",
              "      <td>Vellore Institute of Technology</td>\n",
              "      <td>Tamil nadu</td>\n",
              "      <td>Engineering</td>\n",
              "      <td>1,98,000</td>\n",
              "      <td>1,83,000</td>\n",
              "      <td>8.3</td>\n",
              "    </tr>\n",
              "    <tr>\n",
              "      <th>4</th>\n",
              "      <td>SRM Engineering College, Kanchipuram</td>\n",
              "      <td>Tamil nadu</td>\n",
              "      <td>Engineering</td>\n",
              "      <td>2,60,000</td>\n",
              "      <td>1,70,000</td>\n",
              "      <td>7.2</td>\n",
              "    </tr>\n",
              "  </tbody>\n",
              "</table>\n",
              "</div>\n",
              "      <button class=\"colab-df-convert\" onclick=\"convertToInteractive('df-ac035723-4d07-41d3-9d43-64e7c0830d80')\"\n",
              "              title=\"Convert this dataframe to an interactive table.\"\n",
              "              style=\"display:none;\">\n",
              "        \n",
              "  <svg xmlns=\"http://www.w3.org/2000/svg\" height=\"24px\"viewBox=\"0 0 24 24\"\n",
              "       width=\"24px\">\n",
              "    <path d=\"M0 0h24v24H0V0z\" fill=\"none\"/>\n",
              "    <path d=\"M18.56 5.44l.94 2.06.94-2.06 2.06-.94-2.06-.94-.94-2.06-.94 2.06-2.06.94zm-11 1L8.5 8.5l.94-2.06 2.06-.94-2.06-.94L8.5 2.5l-.94 2.06-2.06.94zm10 10l.94 2.06.94-2.06 2.06-.94-2.06-.94-.94-2.06-.94 2.06-2.06.94z\"/><path d=\"M17.41 7.96l-1.37-1.37c-.4-.4-.92-.59-1.43-.59-.52 0-1.04.2-1.43.59L10.3 9.45l-7.72 7.72c-.78.78-.78 2.05 0 2.83L4 21.41c.39.39.9.59 1.41.59.51 0 1.02-.2 1.41-.59l7.78-7.78 2.81-2.81c.8-.78.8-2.07 0-2.86zM5.41 20L4 18.59l7.72-7.72 1.47 1.35L5.41 20z\"/>\n",
              "  </svg>\n",
              "      </button>\n",
              "      \n",
              "  <style>\n",
              "    .colab-df-container {\n",
              "      display:flex;\n",
              "      flex-wrap:wrap;\n",
              "      gap: 12px;\n",
              "    }\n",
              "\n",
              "    .colab-df-convert {\n",
              "      background-color: #E8F0FE;\n",
              "      border: none;\n",
              "      border-radius: 50%;\n",
              "      cursor: pointer;\n",
              "      display: none;\n",
              "      fill: #1967D2;\n",
              "      height: 32px;\n",
              "      padding: 0 0 0 0;\n",
              "      width: 32px;\n",
              "    }\n",
              "\n",
              "    .colab-df-convert:hover {\n",
              "      background-color: #E2EBFA;\n",
              "      box-shadow: 0px 1px 2px rgba(60, 64, 67, 0.3), 0px 1px 3px 1px rgba(60, 64, 67, 0.15);\n",
              "      fill: #174EA6;\n",
              "    }\n",
              "\n",
              "    [theme=dark] .colab-df-convert {\n",
              "      background-color: #3B4455;\n",
              "      fill: #D2E3FC;\n",
              "    }\n",
              "\n",
              "    [theme=dark] .colab-df-convert:hover {\n",
              "      background-color: #434B5C;\n",
              "      box-shadow: 0px 1px 3px 1px rgba(0, 0, 0, 0.15);\n",
              "      filter: drop-shadow(0px 1px 2px rgba(0, 0, 0, 0.3));\n",
              "      fill: #FFFFFF;\n",
              "    }\n",
              "  </style>\n",
              "\n",
              "      <script>\n",
              "        const buttonEl =\n",
              "          document.querySelector('#df-ac035723-4d07-41d3-9d43-64e7c0830d80 button.colab-df-convert');\n",
              "        buttonEl.style.display =\n",
              "          google.colab.kernel.accessAllowed ? 'block' : 'none';\n",
              "\n",
              "        async function convertToInteractive(key) {\n",
              "          const element = document.querySelector('#df-ac035723-4d07-41d3-9d43-64e7c0830d80');\n",
              "          const dataTable =\n",
              "            await google.colab.kernel.invokeFunction('convertToInteractive',\n",
              "                                                     [key], {});\n",
              "          if (!dataTable) return;\n",
              "\n",
              "          const docLinkHtml = 'Like what you see? Visit the ' +\n",
              "            '<a target=\"_blank\" href=https://colab.research.google.com/notebooks/data_table.ipynb>data table notebook</a>'\n",
              "            + ' to learn more about interactive tables.';\n",
              "          element.innerHTML = '';\n",
              "          dataTable['output_type'] = 'display_data';\n",
              "          await google.colab.output.renderOutput(dataTable, element);\n",
              "          const docLink = document.createElement('div');\n",
              "          docLink.innerHTML = docLinkHtml;\n",
              "          element.appendChild(docLink);\n",
              "        }\n",
              "      </script>\n",
              "    </div>\n",
              "  </div>\n",
              "  "
            ]
          },
          "metadata": {},
          "execution_count": 21
        }
      ]
    },
    {
      "cell_type": "markdown",
      "source": [
        "### As, We can see that from above table UG_fee and PG_fee columns have int value but it's contains comma thats why we couldn't convert these values to int. So, First of all we need to remove comma from data then, we able to convert it's datatype. "
      ],
      "metadata": {
        "id": "f5w3KQZtmeWZ"
      }
    },
    {
      "cell_type": "code",
      "source": [
        "new_collegedata['UG_fee']=new_collegedata['UG_fee'].replace(\",\",\"\",regex=True)\n",
        "new_collegedata['UG_fee']"
      ],
      "metadata": {
        "colab": {
          "base_uri": "https://localhost:8080/"
        },
        "id": "1sbzHWyYnWc4",
        "outputId": "aad039b8-2481-483e-cd41-b9a63261c071"
      },
      "execution_count": 22,
      "outputs": [
        {
          "output_type": "stream",
          "name": "stderr",
          "text": [
            "/usr/local/lib/python3.7/dist-packages/ipykernel_launcher.py:1: SettingWithCopyWarning: \n",
            "A value is trying to be set on a copy of a slice from a DataFrame.\n",
            "Try using .loc[row_indexer,col_indexer] = value instead\n",
            "\n",
            "See the caveats in the documentation: https://pandas.pydata.org/pandas-docs/stable/user_guide/indexing.html#returning-a-view-versus-a-copy\n",
            "  \"\"\"Entry point for launching an IPython kernel.\n"
          ]
        },
        {
          "output_type": "execute_result",
          "data": {
            "text/plain": [
              "0        75116\n",
              "1        50000\n",
              "2       149250\n",
              "3       198000\n",
              "4       260000\n",
              "         ...  \n",
              "6760      7220\n",
              "6764      7930\n",
              "6773       939\n",
              "6776       843\n",
              "6778       843\n",
              "Name: UG_fee, Length: 3195, dtype: object"
            ]
          },
          "metadata": {},
          "execution_count": 22
        }
      ]
    },
    {
      "cell_type": "code",
      "source": [
        "new_collegedata['UG_fee'] = new_collegedata['UG_fee'].astype(int)  \n",
        "print(new_collegedata.dtypes)"
      ],
      "metadata": {
        "colab": {
          "base_uri": "https://localhost:8080/"
        },
        "id": "RjycNby2YC3_",
        "outputId": "02f77877-252b-443e-e62c-8a11490e7302"
      },
      "execution_count": 23,
      "outputs": [
        {
          "output_type": "stream",
          "name": "stdout",
          "text": [
            "College_Name       object\n",
            "State              object\n",
            "Stream             object\n",
            "UG_fee              int64\n",
            "PG_fee             object\n",
            "Overall_Rating    float64\n",
            "dtype: object\n"
          ]
        },
        {
          "output_type": "stream",
          "name": "stderr",
          "text": [
            "/usr/local/lib/python3.7/dist-packages/ipykernel_launcher.py:1: SettingWithCopyWarning: \n",
            "A value is trying to be set on a copy of a slice from a DataFrame.\n",
            "Try using .loc[row_indexer,col_indexer] = value instead\n",
            "\n",
            "See the caveats in the documentation: https://pandas.pydata.org/pandas-docs/stable/user_guide/indexing.html#returning-a-view-versus-a-copy\n",
            "  \"\"\"Entry point for launching an IPython kernel.\n"
          ]
        }
      ]
    },
    {
      "cell_type": "code",
      "source": [
        "new_collegedata['PG_fee']=new_collegedata['PG_fee'].replace(\",\",\"\",regex=True)\n",
        "new_collegedata['PG_fee']"
      ],
      "metadata": {
        "colab": {
          "base_uri": "https://localhost:8080/"
        },
        "id": "ID9LVy_Jn1go",
        "outputId": "800aa077-270e-4252-b8ce-c0a9b7516970"
      },
      "execution_count": 24,
      "outputs": [
        {
          "output_type": "stream",
          "name": "stderr",
          "text": [
            "/usr/local/lib/python3.7/dist-packages/ipykernel_launcher.py:1: SettingWithCopyWarning: \n",
            "A value is trying to be set on a copy of a slice from a DataFrame.\n",
            "Try using .loc[row_indexer,col_indexer] = value instead\n",
            "\n",
            "See the caveats in the documentation: https://pandas.pydata.org/pandas-docs/stable/user_guide/indexing.html#returning-a-view-versus-a-copy\n",
            "  \"\"\"Entry point for launching an IPython kernel.\n"
          ]
        },
        {
          "output_type": "execute_result",
          "data": {
            "text/plain": [
              "0        23070\n",
              "1        50000\n",
              "2        99250\n",
              "3       183000\n",
              "4       170000\n",
              "         ...  \n",
              "6760     16020\n",
              "6764     12500\n",
              "6773      1128\n",
              "6776      1008\n",
              "6778      1008\n",
              "Name: PG_fee, Length: 3195, dtype: object"
            ]
          },
          "metadata": {},
          "execution_count": 24
        }
      ]
    },
    {
      "cell_type": "code",
      "source": [
        "new_collegedata['PG_fee'] = new_collegedata['PG_fee'].astype(int)  \n",
        "print(new_collegedata.dtypes)"
      ],
      "metadata": {
        "colab": {
          "base_uri": "https://localhost:8080/"
        },
        "id": "Guh4oiZ7dCK8",
        "outputId": "702cdfe0-9015-4cac-c2e9-55ea02cabb47"
      },
      "execution_count": 25,
      "outputs": [
        {
          "output_type": "stream",
          "name": "stdout",
          "text": [
            "College_Name       object\n",
            "State              object\n",
            "Stream             object\n",
            "UG_fee              int64\n",
            "PG_fee              int64\n",
            "Overall_Rating    float64\n",
            "dtype: object\n"
          ]
        },
        {
          "output_type": "stream",
          "name": "stderr",
          "text": [
            "/usr/local/lib/python3.7/dist-packages/ipykernel_launcher.py:1: SettingWithCopyWarning: \n",
            "A value is trying to be set on a copy of a slice from a DataFrame.\n",
            "Try using .loc[row_indexer,col_indexer] = value instead\n",
            "\n",
            "See the caveats in the documentation: https://pandas.pydata.org/pandas-docs/stable/user_guide/indexing.html#returning-a-view-versus-a-copy\n",
            "  \"\"\"Entry point for launching an IPython kernel.\n"
          ]
        }
      ]
    },
    {
      "cell_type": "code",
      "source": [
        "new_collegedata.head()"
      ],
      "metadata": {
        "colab": {
          "base_uri": "https://localhost:8080/",
          "height": 206
        },
        "id": "b25Qn_C1oK5P",
        "outputId": "4b360d4f-f2da-4309-e07c-031c33b70051"
      },
      "execution_count": 26,
      "outputs": [
        {
          "output_type": "execute_result",
          "data": {
            "text/plain": [
              "                               College_Name       State       Stream  UG_fee  \\\n",
              "0    Indian Institute of Technology Madras   Tamil nadu  Engineering   75116   \n",
              "1  College of Engineering, Anna University   Tamil nadu  Engineering   50000   \n",
              "2              NIT Trichy, Tiruchirappalli   Tamil nadu  Engineering  149250   \n",
              "3          Vellore Institute of Technology   Tamil nadu  Engineering  198000   \n",
              "4     SRM Engineering College, Kanchipuram   Tamil nadu  Engineering  260000   \n",
              "\n",
              "   PG_fee  Overall_Rating  \n",
              "0   23070             8.7  \n",
              "1   50000             8.4  \n",
              "2   99250             8.5  \n",
              "3  183000             8.3  \n",
              "4  170000             7.2  "
            ],
            "text/html": [
              "\n",
              "  <div id=\"df-d10b449f-91be-42d3-9e6f-b2b6e3e6bce9\">\n",
              "    <div class=\"colab-df-container\">\n",
              "      <div>\n",
              "<style scoped>\n",
              "    .dataframe tbody tr th:only-of-type {\n",
              "        vertical-align: middle;\n",
              "    }\n",
              "\n",
              "    .dataframe tbody tr th {\n",
              "        vertical-align: top;\n",
              "    }\n",
              "\n",
              "    .dataframe thead th {\n",
              "        text-align: right;\n",
              "    }\n",
              "</style>\n",
              "<table border=\"1\" class=\"dataframe\">\n",
              "  <thead>\n",
              "    <tr style=\"text-align: right;\">\n",
              "      <th></th>\n",
              "      <th>College_Name</th>\n",
              "      <th>State</th>\n",
              "      <th>Stream</th>\n",
              "      <th>UG_fee</th>\n",
              "      <th>PG_fee</th>\n",
              "      <th>Overall_Rating</th>\n",
              "    </tr>\n",
              "  </thead>\n",
              "  <tbody>\n",
              "    <tr>\n",
              "      <th>0</th>\n",
              "      <td>Indian Institute of Technology Madras</td>\n",
              "      <td>Tamil nadu</td>\n",
              "      <td>Engineering</td>\n",
              "      <td>75116</td>\n",
              "      <td>23070</td>\n",
              "      <td>8.7</td>\n",
              "    </tr>\n",
              "    <tr>\n",
              "      <th>1</th>\n",
              "      <td>College of Engineering, Anna University</td>\n",
              "      <td>Tamil nadu</td>\n",
              "      <td>Engineering</td>\n",
              "      <td>50000</td>\n",
              "      <td>50000</td>\n",
              "      <td>8.4</td>\n",
              "    </tr>\n",
              "    <tr>\n",
              "      <th>2</th>\n",
              "      <td>NIT Trichy, Tiruchirappalli</td>\n",
              "      <td>Tamil nadu</td>\n",
              "      <td>Engineering</td>\n",
              "      <td>149250</td>\n",
              "      <td>99250</td>\n",
              "      <td>8.5</td>\n",
              "    </tr>\n",
              "    <tr>\n",
              "      <th>3</th>\n",
              "      <td>Vellore Institute of Technology</td>\n",
              "      <td>Tamil nadu</td>\n",
              "      <td>Engineering</td>\n",
              "      <td>198000</td>\n",
              "      <td>183000</td>\n",
              "      <td>8.3</td>\n",
              "    </tr>\n",
              "    <tr>\n",
              "      <th>4</th>\n",
              "      <td>SRM Engineering College, Kanchipuram</td>\n",
              "      <td>Tamil nadu</td>\n",
              "      <td>Engineering</td>\n",
              "      <td>260000</td>\n",
              "      <td>170000</td>\n",
              "      <td>7.2</td>\n",
              "    </tr>\n",
              "  </tbody>\n",
              "</table>\n",
              "</div>\n",
              "      <button class=\"colab-df-convert\" onclick=\"convertToInteractive('df-d10b449f-91be-42d3-9e6f-b2b6e3e6bce9')\"\n",
              "              title=\"Convert this dataframe to an interactive table.\"\n",
              "              style=\"display:none;\">\n",
              "        \n",
              "  <svg xmlns=\"http://www.w3.org/2000/svg\" height=\"24px\"viewBox=\"0 0 24 24\"\n",
              "       width=\"24px\">\n",
              "    <path d=\"M0 0h24v24H0V0z\" fill=\"none\"/>\n",
              "    <path d=\"M18.56 5.44l.94 2.06.94-2.06 2.06-.94-2.06-.94-.94-2.06-.94 2.06-2.06.94zm-11 1L8.5 8.5l.94-2.06 2.06-.94-2.06-.94L8.5 2.5l-.94 2.06-2.06.94zm10 10l.94 2.06.94-2.06 2.06-.94-2.06-.94-.94-2.06-.94 2.06-2.06.94z\"/><path d=\"M17.41 7.96l-1.37-1.37c-.4-.4-.92-.59-1.43-.59-.52 0-1.04.2-1.43.59L10.3 9.45l-7.72 7.72c-.78.78-.78 2.05 0 2.83L4 21.41c.39.39.9.59 1.41.59.51 0 1.02-.2 1.41-.59l7.78-7.78 2.81-2.81c.8-.78.8-2.07 0-2.86zM5.41 20L4 18.59l7.72-7.72 1.47 1.35L5.41 20z\"/>\n",
              "  </svg>\n",
              "      </button>\n",
              "      \n",
              "  <style>\n",
              "    .colab-df-container {\n",
              "      display:flex;\n",
              "      flex-wrap:wrap;\n",
              "      gap: 12px;\n",
              "    }\n",
              "\n",
              "    .colab-df-convert {\n",
              "      background-color: #E8F0FE;\n",
              "      border: none;\n",
              "      border-radius: 50%;\n",
              "      cursor: pointer;\n",
              "      display: none;\n",
              "      fill: #1967D2;\n",
              "      height: 32px;\n",
              "      padding: 0 0 0 0;\n",
              "      width: 32px;\n",
              "    }\n",
              "\n",
              "    .colab-df-convert:hover {\n",
              "      background-color: #E2EBFA;\n",
              "      box-shadow: 0px 1px 2px rgba(60, 64, 67, 0.3), 0px 1px 3px 1px rgba(60, 64, 67, 0.15);\n",
              "      fill: #174EA6;\n",
              "    }\n",
              "\n",
              "    [theme=dark] .colab-df-convert {\n",
              "      background-color: #3B4455;\n",
              "      fill: #D2E3FC;\n",
              "    }\n",
              "\n",
              "    [theme=dark] .colab-df-convert:hover {\n",
              "      background-color: #434B5C;\n",
              "      box-shadow: 0px 1px 3px 1px rgba(0, 0, 0, 0.15);\n",
              "      filter: drop-shadow(0px 1px 2px rgba(0, 0, 0, 0.3));\n",
              "      fill: #FFFFFF;\n",
              "    }\n",
              "  </style>\n",
              "\n",
              "      <script>\n",
              "        const buttonEl =\n",
              "          document.querySelector('#df-d10b449f-91be-42d3-9e6f-b2b6e3e6bce9 button.colab-df-convert');\n",
              "        buttonEl.style.display =\n",
              "          google.colab.kernel.accessAllowed ? 'block' : 'none';\n",
              "\n",
              "        async function convertToInteractive(key) {\n",
              "          const element = document.querySelector('#df-d10b449f-91be-42d3-9e6f-b2b6e3e6bce9');\n",
              "          const dataTable =\n",
              "            await google.colab.kernel.invokeFunction('convertToInteractive',\n",
              "                                                     [key], {});\n",
              "          if (!dataTable) return;\n",
              "\n",
              "          const docLinkHtml = 'Like what you see? Visit the ' +\n",
              "            '<a target=\"_blank\" href=https://colab.research.google.com/notebooks/data_table.ipynb>data table notebook</a>'\n",
              "            + ' to learn more about interactive tables.';\n",
              "          element.innerHTML = '';\n",
              "          dataTable['output_type'] = 'display_data';\n",
              "          await google.colab.output.renderOutput(dataTable, element);\n",
              "          const docLink = document.createElement('div');\n",
              "          docLink.innerHTML = docLinkHtml;\n",
              "          element.appendChild(docLink);\n",
              "        }\n",
              "      </script>\n",
              "    </div>\n",
              "  </div>\n",
              "  "
            ]
          },
          "metadata": {},
          "execution_count": 26
        }
      ]
    },
    {
      "cell_type": "markdown",
      "source": [
        "* ### Now , We can see that above data frame are fully read for gives as input to model that produce list of recommended top 5 colleges as per input . "
      ],
      "metadata": {
        "id": "qJVfLP1QydkB"
      }
    },
    {
      "cell_type": "code",
      "source": [
        "def recommad(userinput_state,userinput_Stream,userinput_cotype,userinput_fees):\n",
        " try:\n",
        "      list_clg=[]\n",
        "      Filter=new_collegedata[((new_collegedata.State==userinput_state)&(new_collegedata.Stream==userinput_Stream))]\n",
        "      if userinput_fees=='Yes' :\n",
        "        if userinput_cotype=='UG':\n",
        "            df=Filter.sort_values(by=['UG_fee'],ascending=[True])\n",
        "            name=df.College_Name\n",
        "            list_clg=name[0:5]\n",
        "        else:\n",
        "            df=Filter.sort_values(by=['PG_fee'],ascending=[True])\n",
        "            name=df.College_Name\n",
        "            list_clg=name[0:5]\n",
        "        \n",
        "      else :\n",
        "        df=Filter.sort_values(by=['Overall_Rating'],ascending=[False])\n",
        "        name=df.College_Name\n",
        "        list_clg=name[0:5]\n",
        "\n",
        "      for i in list_clg:\n",
        "        print(i)\n",
        " except:\n",
        "    print('Something goes wronge...')\n"
      ],
      "metadata": {
        "id": "joPLI4YJpF_C"
      },
      "execution_count": 27,
      "outputs": []
    },
    {
      "cell_type": "markdown",
      "source": [
        "* ### recommand is function that takes 4 input values like prefered state name , stream type , course type and sorting type then it's provide list of top 5 recommended college."
      ],
      "metadata": {
        "id": "91AXo-8nzZ9u"
      }
    },
    {
      "cell_type": "code",
      "source": [
        "recommad('Gujarat','Engineering','UG',True)"
      ],
      "metadata": {
        "colab": {
          "base_uri": "https://localhost:8080/"
        },
        "id": "4o3bKZ5k6Ky-",
        "outputId": "8a599e07-b514-4a0b-a8e8-8510fdf44dee"
      },
      "execution_count": 28,
      "outputs": [
        {
          "output_type": "stream",
          "name": "stdout",
          "text": [
            "P.P. Savani University, Surat \n",
            "Dhirubhai Ambani Institute of Information and Communication \n",
            "Pandit Deendayal Petroleum University [PDPU] / (Energy \n",
            "Pandit Deendayal Petroleum University, School of Technology \n",
            "RK University \n"
          ]
        }
      ]
    },
    {
      "cell_type": "code",
      "source": [
        "userinput_state=input('Enter the your state name : ')\n",
        "userinput_Stream=input('Enter the your study stream : ')\n",
        "userinput_fees=input('is data Sorted by fees?Y/N')\n",
        "userinput_cotype=input('UG or PG ?')\n",
        "recommad(userinput_state,userinput_Stream,userinput_cotype,userinput_fees)"
      ],
      "metadata": {
        "id": "QEgWhNMIocuA",
        "colab": {
          "base_uri": "https://localhost:8080/"
        },
        "outputId": "57974056-f7a1-4b36-f898-1ff23cd82d69"
      },
      "execution_count": 29,
      "outputs": [
        {
          "output_type": "stream",
          "name": "stdout",
          "text": [
            "Enter the your state name : Gujarat\n",
            "Enter the your study stream : Engineering\n",
            "is data Sorted by fees?Y/NYes\n",
            "UG or PG ?UG\n",
            "Vishwakarma Government Engineering College \n",
            "L.D. College of Engineering \n",
            "Faculty of Technology and Engineering, Maharaja Sayajirao \n",
            "Institute of Infrastructure Technology Research and Management \n",
            "Central Institute of plastics engineering & Technology- \n"
          ]
        }
      ]
    },
    {
      "cell_type": "code",
      "source": [
        "states=new_collegedata['State'].unique()\n",
        "states"
      ],
      "metadata": {
        "colab": {
          "base_uri": "https://localhost:8080/"
        },
        "id": "knZ_-T51rLuR",
        "outputId": "35bf05c3-275e-4d77-b4f5-71ec2b907f27"
      },
      "execution_count": 30,
      "outputs": [
        {
          "output_type": "execute_result",
          "data": {
            "text/plain": [
              "array(['Tamil nadu', 'Maharashtra', 'Uttar pradesh', 'Delhi ncr',\n",
              "       'Andhra pradesh', 'Karnataka', 'Telangana', 'Madhya pradesh',\n",
              "       'Kerala', 'Rajasthan', 'Haryana', 'Gujarat', 'Punjab',\n",
              "       'West bengal', 'Orissa', 'Uttarakhand', 'Assam', 'Bihar',\n",
              "       'Chhattisgarh', 'Jharkhand', 'Himachal pradesh', 'Jammu',\n",
              "       'Chandigarh', 'Goa', 'Arunachal pradesh', 'Meghalaya', 'Nagaland',\n",
              "       'Puducherry', 'Tripura', 'Sikkim', 'Manipur', 'Mizoram', 'Andaman'],\n",
              "      dtype=object)"
            ]
          },
          "metadata": {},
          "execution_count": 30
        }
      ]
    },
    {
      "cell_type": "code",
      "source": [
        "streams=new_collegedata['Stream'].unique()\n",
        "type(streams)\n",
        "streams"
      ],
      "metadata": {
        "colab": {
          "base_uri": "https://localhost:8080/"
        },
        "id": "qS6KuJNSt_x2",
        "outputId": "5681845f-2672-4447-8b14-33b87214bc46"
      },
      "execution_count": 31,
      "outputs": [
        {
          "output_type": "execute_result",
          "data": {
            "text/plain": [
              "array(['Engineering', 'Management', 'Science', 'Commerce', 'Arts',\n",
              "       'Hotel-management', 'Agriculture', 'Medical', 'Pharmacy', 'Law'],\n",
              "      dtype=object)"
            ]
          },
          "metadata": {},
          "execution_count": 31
        }
      ]
    },
    {
      "cell_type": "code",
      "source": [
        "import pickle\n",
        "pickle.dump(states.tolist,open('state_list.pkl','wb'))"
      ],
      "metadata": {
        "id": "kkzWxVN9saDn"
      },
      "execution_count": 32,
      "outputs": []
    },
    {
      "cell_type": "code",
      "source": [
        "pickle.dump(states.tolist,open('stream_list.pkl','wb'))"
      ],
      "metadata": {
        "id": "tQpHvKe7t6Vw"
      },
      "execution_count": 33,
      "outputs": []
    },
    {
      "cell_type": "code",
      "source": [
        "pickle.dump(new_collegedata,open('collegedata.pkl','wb'))"
      ],
      "metadata": {
        "id": "3XMIHgzzuO7Z"
      },
      "execution_count": 34,
      "outputs": []
    },
    {
      "cell_type": "markdown",
      "source": [
        "here , These pickle library used for dumpping our dataframe to \".pkl\" file for transfering data . So that, We can use these data in creating Web-App of these College Recommendation System using streamlit library."
      ],
      "metadata": {
        "id": "6HuC8H0R0dTu"
      }
    }
  ]
}